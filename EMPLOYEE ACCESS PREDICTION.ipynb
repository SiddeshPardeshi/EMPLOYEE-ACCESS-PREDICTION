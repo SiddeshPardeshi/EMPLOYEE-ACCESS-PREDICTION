{
 "cells": [
  {
   "cell_type": "code",
   "execution_count": 1,
   "id": "234b68b6",
   "metadata": {},
   "outputs": [],
   "source": [
    "import pandas as pd\n",
    "import numpy as np\n",
    "import matplotlib.pyplot as plt\n",
    "import seaborn as sns\n",
    "import matplotlib.ticker as mtick\n",
    "\n",
    "import warnings\n",
    "warnings.filterwarnings(\"ignore\")\n",
    "\n",
    "from sklearn.metrics import accuracy_score, classification_report, confusion_matrix"
   ]
  },
  {
   "cell_type": "code",
   "execution_count": 2,
   "id": "749a4dff",
   "metadata": {},
   "outputs": [],
   "source": [
    "train_df = pd.read_csv('ea_train.csv')\n",
    "test_df = pd.read_csv('ea_test.csv')"
   ]
  },
  {
   "cell_type": "code",
   "execution_count": 3,
   "id": "4f72383b",
   "metadata": {},
   "outputs": [
    {
     "data": {
      "text/html": [
       "<div>\n",
       "<style scoped>\n",
       "    .dataframe tbody tr th:only-of-type {\n",
       "        vertical-align: middle;\n",
       "    }\n",
       "\n",
       "    .dataframe tbody tr th {\n",
       "        vertical-align: top;\n",
       "    }\n",
       "\n",
       "    .dataframe thead th {\n",
       "        text-align: right;\n",
       "    }\n",
       "</style>\n",
       "<table border=\"1\" class=\"dataframe\">\n",
       "  <thead>\n",
       "    <tr style=\"text-align: right;\">\n",
       "      <th></th>\n",
       "      <th>RESOURCE</th>\n",
       "      <th>MGR_ID</th>\n",
       "      <th>ROLE_ROLLUP_1</th>\n",
       "      <th>ROLE_ROLLUP_2</th>\n",
       "      <th>ROLE_DEPTNAME</th>\n",
       "      <th>ROLE_TITLE</th>\n",
       "      <th>ROLE_FAMILY_DESC</th>\n",
       "      <th>ROLE_FAMILY</th>\n",
       "      <th>ROLE_CODE</th>\n",
       "      <th>ID</th>\n",
       "      <th>ACTION</th>\n",
       "    </tr>\n",
       "  </thead>\n",
       "  <tbody>\n",
       "    <tr>\n",
       "      <th>0</th>\n",
       "      <td>75078</td>\n",
       "      <td>255037</td>\n",
       "      <td>118315</td>\n",
       "      <td>118316</td>\n",
       "      <td>118202</td>\n",
       "      <td>118784</td>\n",
       "      <td>262095</td>\n",
       "      <td>290919</td>\n",
       "      <td>118786</td>\n",
       "      <td>2270</td>\n",
       "      <td>1</td>\n",
       "    </tr>\n",
       "    <tr>\n",
       "      <th>1</th>\n",
       "      <td>79323</td>\n",
       "      <td>3120</td>\n",
       "      <td>117961</td>\n",
       "      <td>118300</td>\n",
       "      <td>120312</td>\n",
       "      <td>120313</td>\n",
       "      <td>120314</td>\n",
       "      <td>118424</td>\n",
       "      <td>120315</td>\n",
       "      <td>696</td>\n",
       "      <td>1</td>\n",
       "    </tr>\n",
       "    <tr>\n",
       "      <th>2</th>\n",
       "      <td>34958</td>\n",
       "      <td>8243</td>\n",
       "      <td>118555</td>\n",
       "      <td>118178</td>\n",
       "      <td>118320</td>\n",
       "      <td>117905</td>\n",
       "      <td>117906</td>\n",
       "      <td>290919</td>\n",
       "      <td>117908</td>\n",
       "      <td>13514</td>\n",
       "      <td>1</td>\n",
       "    </tr>\n",
       "    <tr>\n",
       "      <th>3</th>\n",
       "      <td>39371</td>\n",
       "      <td>7520</td>\n",
       "      <td>117961</td>\n",
       "      <td>118343</td>\n",
       "      <td>124725</td>\n",
       "      <td>117905</td>\n",
       "      <td>240983</td>\n",
       "      <td>290919</td>\n",
       "      <td>117908</td>\n",
       "      <td>13400</td>\n",
       "      <td>1</td>\n",
       "    </tr>\n",
       "    <tr>\n",
       "      <th>4</th>\n",
       "      <td>39330</td>\n",
       "      <td>17290</td>\n",
       "      <td>117961</td>\n",
       "      <td>118386</td>\n",
       "      <td>118522</td>\n",
       "      <td>117905</td>\n",
       "      <td>117906</td>\n",
       "      <td>290919</td>\n",
       "      <td>117908</td>\n",
       "      <td>6703</td>\n",
       "      <td>1</td>\n",
       "    </tr>\n",
       "  </tbody>\n",
       "</table>\n",
       "</div>"
      ],
      "text/plain": [
       "   RESOURCE  MGR_ID  ROLE_ROLLUP_1  ROLE_ROLLUP_2  ROLE_DEPTNAME  ROLE_TITLE  \\\n",
       "0     75078  255037         118315         118316         118202      118784   \n",
       "1     79323    3120         117961         118300         120312      120313   \n",
       "2     34958    8243         118555         118178         118320      117905   \n",
       "3     39371    7520         117961         118343         124725      117905   \n",
       "4     39330   17290         117961         118386         118522      117905   \n",
       "\n",
       "   ROLE_FAMILY_DESC  ROLE_FAMILY  ROLE_CODE     ID  ACTION  \n",
       "0            262095       290919     118786   2270       1  \n",
       "1            120314       118424     120315    696       1  \n",
       "2            117906       290919     117908  13514       1  \n",
       "3            240983       290919     117908  13400       1  \n",
       "4            117906       290919     117908   6703       1  "
      ]
     },
     "execution_count": 3,
     "metadata": {},
     "output_type": "execute_result"
    }
   ],
   "source": [
    "train_df.head()"
   ]
  },
  {
   "cell_type": "code",
   "execution_count": 4,
   "id": "49dcbeb4",
   "metadata": {},
   "outputs": [
    {
     "name": "stdout",
     "output_type": "stream",
     "text": [
      "<class 'pandas.core.frame.DataFrame'>\n",
      "RangeIndex: 24576 entries, 0 to 24575\n",
      "Data columns (total 11 columns):\n",
      " #   Column            Non-Null Count  Dtype\n",
      "---  ------            --------------  -----\n",
      " 0   RESOURCE          24576 non-null  int64\n",
      " 1   MGR_ID            24576 non-null  int64\n",
      " 2   ROLE_ROLLUP_1     24576 non-null  int64\n",
      " 3   ROLE_ROLLUP_2     24576 non-null  int64\n",
      " 4   ROLE_DEPTNAME     24576 non-null  int64\n",
      " 5   ROLE_TITLE        24576 non-null  int64\n",
      " 6   ROLE_FAMILY_DESC  24576 non-null  int64\n",
      " 7   ROLE_FAMILY       24576 non-null  int64\n",
      " 8   ROLE_CODE         24576 non-null  int64\n",
      " 9   ID                24576 non-null  int64\n",
      " 10  ACTION            24576 non-null  int64\n",
      "dtypes: int64(11)\n",
      "memory usage: 2.1 MB\n"
     ]
    }
   ],
   "source": [
    "train_df.info()"
   ]
  },
  {
   "cell_type": "code",
   "execution_count": 5,
   "id": "0f9b1be4",
   "metadata": {},
   "outputs": [
    {
     "data": {
      "text/html": [
       "<div>\n",
       "<style scoped>\n",
       "    .dataframe tbody tr th:only-of-type {\n",
       "        vertical-align: middle;\n",
       "    }\n",
       "\n",
       "    .dataframe tbody tr th {\n",
       "        vertical-align: top;\n",
       "    }\n",
       "\n",
       "    .dataframe thead th {\n",
       "        text-align: right;\n",
       "    }\n",
       "</style>\n",
       "<table border=\"1\" class=\"dataframe\">\n",
       "  <thead>\n",
       "    <tr style=\"text-align: right;\">\n",
       "      <th></th>\n",
       "      <th>RESOURCE</th>\n",
       "      <th>MGR_ID</th>\n",
       "      <th>ROLE_ROLLUP_1</th>\n",
       "      <th>ROLE_ROLLUP_2</th>\n",
       "      <th>ROLE_DEPTNAME</th>\n",
       "      <th>ROLE_TITLE</th>\n",
       "      <th>ROLE_FAMILY_DESC</th>\n",
       "      <th>ROLE_FAMILY</th>\n",
       "      <th>ROLE_CODE</th>\n",
       "      <th>ID</th>\n",
       "      <th>ACTION</th>\n",
       "    </tr>\n",
       "  </thead>\n",
       "  <tbody>\n",
       "    <tr>\n",
       "      <th>count</th>\n",
       "      <td>24576.000000</td>\n",
       "      <td>24576.000000</td>\n",
       "      <td>24576.000000</td>\n",
       "      <td>24576.000000</td>\n",
       "      <td>24576.000000</td>\n",
       "      <td>24576.000000</td>\n",
       "      <td>24576.000000</td>\n",
       "      <td>24576.000000</td>\n",
       "      <td>24576.000000</td>\n",
       "      <td>24576.000000</td>\n",
       "      <td>24576.000000</td>\n",
       "    </tr>\n",
       "    <tr>\n",
       "      <th>mean</th>\n",
       "      <td>42881.130371</td>\n",
       "      <td>25893.693278</td>\n",
       "      <td>116955.370443</td>\n",
       "      <td>118260.892741</td>\n",
       "      <td>118854.659098</td>\n",
       "      <td>125661.492594</td>\n",
       "      <td>169860.284505</td>\n",
       "      <td>183598.044556</td>\n",
       "      <td>119765.312378</td>\n",
       "      <td>16367.649292</td>\n",
       "      <td>0.941895</td>\n",
       "    </tr>\n",
       "    <tr>\n",
       "      <th>std</th>\n",
       "      <td>34262.362668</td>\n",
       "      <td>35746.796709</td>\n",
       "      <td>10950.867471</td>\n",
       "      <td>4841.345712</td>\n",
       "      <td>18639.574571</td>\n",
       "      <td>30491.343035</td>\n",
       "      <td>69329.221486</td>\n",
       "      <td>100563.091506</td>\n",
       "      <td>5559.507074</td>\n",
       "      <td>9464.173852</td>\n",
       "      <td>0.233948</td>\n",
       "    </tr>\n",
       "    <tr>\n",
       "      <th>min</th>\n",
       "      <td>0.000000</td>\n",
       "      <td>25.000000</td>\n",
       "      <td>4292.000000</td>\n",
       "      <td>23779.000000</td>\n",
       "      <td>4674.000000</td>\n",
       "      <td>117879.000000</td>\n",
       "      <td>4673.000000</td>\n",
       "      <td>3130.000000</td>\n",
       "      <td>117880.000000</td>\n",
       "      <td>0.000000</td>\n",
       "      <td>0.000000</td>\n",
       "    </tr>\n",
       "    <tr>\n",
       "      <th>25%</th>\n",
       "      <td>20299.000000</td>\n",
       "      <td>4564.000000</td>\n",
       "      <td>117961.000000</td>\n",
       "      <td>118102.000000</td>\n",
       "      <td>118391.000000</td>\n",
       "      <td>118274.000000</td>\n",
       "      <td>117906.000000</td>\n",
       "      <td>118363.000000</td>\n",
       "      <td>118209.000000</td>\n",
       "      <td>8149.750000</td>\n",
       "      <td>1.000000</td>\n",
       "    </tr>\n",
       "    <tr>\n",
       "      <th>50%</th>\n",
       "      <td>35210.000000</td>\n",
       "      <td>13441.000000</td>\n",
       "      <td>117961.000000</td>\n",
       "      <td>118300.000000</td>\n",
       "      <td>118910.000000</td>\n",
       "      <td>118568.000000</td>\n",
       "      <td>128628.000000</td>\n",
       "      <td>119095.000000</td>\n",
       "      <td>118570.000000</td>\n",
       "      <td>16403.500000</td>\n",
       "      <td>1.000000</td>\n",
       "    </tr>\n",
       "    <tr>\n",
       "      <th>75%</th>\n",
       "      <td>74189.250000</td>\n",
       "      <td>41786.000000</td>\n",
       "      <td>117961.000000</td>\n",
       "      <td>118386.000000</td>\n",
       "      <td>120428.000000</td>\n",
       "      <td>120006.000000</td>\n",
       "      <td>233714.000000</td>\n",
       "      <td>290919.000000</td>\n",
       "      <td>119353.000000</td>\n",
       "      <td>24524.250000</td>\n",
       "      <td>1.000000</td>\n",
       "    </tr>\n",
       "    <tr>\n",
       "      <th>max</th>\n",
       "      <td>312153.000000</td>\n",
       "      <td>311696.000000</td>\n",
       "      <td>311178.000000</td>\n",
       "      <td>286791.000000</td>\n",
       "      <td>286792.000000</td>\n",
       "      <td>311867.000000</td>\n",
       "      <td>311867.000000</td>\n",
       "      <td>308574.000000</td>\n",
       "      <td>270691.000000</td>\n",
       "      <td>32768.000000</td>\n",
       "      <td>1.000000</td>\n",
       "    </tr>\n",
       "  </tbody>\n",
       "</table>\n",
       "</div>"
      ],
      "text/plain": [
       "            RESOURCE         MGR_ID  ROLE_ROLLUP_1  ROLE_ROLLUP_2  \\\n",
       "count   24576.000000   24576.000000   24576.000000   24576.000000   \n",
       "mean    42881.130371   25893.693278  116955.370443  118260.892741   \n",
       "std     34262.362668   35746.796709   10950.867471    4841.345712   \n",
       "min         0.000000      25.000000    4292.000000   23779.000000   \n",
       "25%     20299.000000    4564.000000  117961.000000  118102.000000   \n",
       "50%     35210.000000   13441.000000  117961.000000  118300.000000   \n",
       "75%     74189.250000   41786.000000  117961.000000  118386.000000   \n",
       "max    312153.000000  311696.000000  311178.000000  286791.000000   \n",
       "\n",
       "       ROLE_DEPTNAME     ROLE_TITLE  ROLE_FAMILY_DESC    ROLE_FAMILY  \\\n",
       "count   24576.000000   24576.000000      24576.000000   24576.000000   \n",
       "mean   118854.659098  125661.492594     169860.284505  183598.044556   \n",
       "std     18639.574571   30491.343035      69329.221486  100563.091506   \n",
       "min      4674.000000  117879.000000       4673.000000    3130.000000   \n",
       "25%    118391.000000  118274.000000     117906.000000  118363.000000   \n",
       "50%    118910.000000  118568.000000     128628.000000  119095.000000   \n",
       "75%    120428.000000  120006.000000     233714.000000  290919.000000   \n",
       "max    286792.000000  311867.000000     311867.000000  308574.000000   \n",
       "\n",
       "           ROLE_CODE            ID        ACTION  \n",
       "count   24576.000000  24576.000000  24576.000000  \n",
       "mean   119765.312378  16367.649292      0.941895  \n",
       "std      5559.507074   9464.173852      0.233948  \n",
       "min    117880.000000      0.000000      0.000000  \n",
       "25%    118209.000000   8149.750000      1.000000  \n",
       "50%    118570.000000  16403.500000      1.000000  \n",
       "75%    119353.000000  24524.250000      1.000000  \n",
       "max    270691.000000  32768.000000      1.000000  "
      ]
     },
     "execution_count": 5,
     "metadata": {},
     "output_type": "execute_result"
    }
   ],
   "source": [
    "train_df.describe()"
   ]
  },
  {
   "cell_type": "code",
   "execution_count": 6,
   "id": "10aa1446",
   "metadata": {},
   "outputs": [],
   "source": [
    "train_df.drop('ID', axis = 1, inplace = True)"
   ]
  },
  {
   "cell_type": "code",
   "execution_count": 7,
   "id": "ca366468",
   "metadata": {},
   "outputs": [
    {
     "data": {
      "text/plain": [
       "1    23148\n",
       "0     1428\n",
       "Name: ACTION, dtype: int64"
      ]
     },
     "execution_count": 7,
     "metadata": {},
     "output_type": "execute_result"
    }
   ],
   "source": [
    "train_df['ACTION'].value_counts()"
   ]
  },
  {
   "cell_type": "code",
   "execution_count": 8,
   "id": "99f19a4f",
   "metadata": {},
   "outputs": [
    {
     "data": {
      "text/plain": [
       "<AxesSubplot:xlabel='ACTION', ylabel='count'>"
      ]
     },
     "execution_count": 8,
     "metadata": {},
     "output_type": "execute_result"
    },
    {
     "data": {
      "image/png": "[encoded data removed]",
      "text/plain": [
       "<Figure size 640x480 with 1 Axes>"
      ]
     },
     "metadata": {},
     "output_type": "display_data"
    }
   ],
   "source": [
    "sns.countplot(train_df['ACTION'])"
   ]
  },
  {
   "cell_type": "code",
   "execution_count": 9,
   "id": "9e2b6dbe",
   "metadata": {},
   "outputs": [
    {
     "data": {
      "image/png": "[encoded data removed]",
      "text/plain": [
       "<Figure size 1500x700 with 2 Axes>"
      ]
     },
     "metadata": {},
     "output_type": "display_data"
    }
   ],
   "source": [
    "figure = plt.figure(figsize=[15, 7])\n",
    "sns.heatmap(data=train_df.corr(), annot=True)\n",
    "plt.xticks(size=12, rotation=90)\n",
    "plt.yticks(size=12)\n",
    "plt.xlabel(xlabel='Feature Space X', size=14)\n",
    "plt.ylabel(ylabel='Feature Space Y', size=14)\n",
    "plt.title(label='Correlation of Features', size=16)\n",
    "plt.show()"
   ]
  },
  {
   "cell_type": "code",
   "execution_count": 10,
   "id": "92b444cc",
   "metadata": {},
   "outputs": [],
   "source": [
    "train_df.drop(['RESOURCE', 'MGR_ID', 'ROLE_ROLLUP_1'], axis = 1, inplace = True)"
   ]
  },
  {
   "cell_type": "code",
   "execution_count": 11,
   "id": "74b5f8b7",
   "metadata": {},
   "outputs": [
    {
     "name": "stdout",
     "output_type": "stream",
     "text": [
      "<class 'pandas.core.frame.DataFrame'>\n",
      "RangeIndex: 24576 entries, 0 to 24575\n",
      "Data columns (total 7 columns):\n",
      " #   Column            Non-Null Count  Dtype\n",
      "---  ------            --------------  -----\n",
      " 0   ROLE_ROLLUP_2     24576 non-null  int64\n",
      " 1   ROLE_DEPTNAME     24576 non-null  int64\n",
      " 2   ROLE_TITLE        24576 non-null  int64\n",
      " 3   ROLE_FAMILY_DESC  24576 non-null  int64\n",
      " 4   ROLE_FAMILY       24576 non-null  int64\n",
      " 5   ROLE_CODE         24576 non-null  int64\n",
      " 6   ACTION            24576 non-null  int64\n",
      "dtypes: int64(7)\n",
      "memory usage: 1.3 MB\n"
     ]
    }
   ],
   "source": [
    "train_df.info()"
   ]
  },
  {
   "cell_type": "code",
   "execution_count": 12,
   "id": "0dec4349",
   "metadata": {
    "scrolled": false
   },
   "outputs": [
    {
     "name": "stdout",
     "output_type": "stream",
     "text": [
      "ROLE_ROLLUP_2\n"
     ]
    },
    {
     "data": {
      "image/png": "[encoded data removed]",
      "text/plain": [
       "<Figure size 640x480 with 1 Axes>"
      ]
     },
     "metadata": {},
     "output_type": "display_data"
    },
    {
     "name": "stdout",
     "output_type": "stream",
     "text": [
      "ROLE_DEPTNAME\n"
     ]
    },
    {
     "data": {
      "image/png": "[encoded data removed]",
      "text/plain": [
       "<Figure size 640x480 with 1 Axes>"
      ]
     },
     "metadata": {},
     "output_type": "display_data"
    },
    {
     "name": "stdout",
     "output_type": "stream",
     "text": [
      "ROLE_TITLE\n"
     ]
    },
    {
     "data": {
      "image/png": "[encoded data removed]",
      "text/plain": [
       "<Figure size 640x480 with 1 Axes>"
      ]
     },
     "metadata": {},
     "output_type": "display_data"
    },
    {
     "name": "stdout",
     "output_type": "stream",
     "text": [
      "ROLE_FAMILY_DESC\n"
     ]
    },
    {
     "data": {
      "image/png": "[encoded data removed]",
      "text/plain": [
       "<Figure size 640x480 with 1 Axes>"
      ]
     },
     "metadata": {},
     "output_type": "display_data"
    },
    {
     "name": "stdout",
     "output_type": "stream",
     "text": [
      "ROLE_FAMILY\n"
     ]
    },
    {
     "data": {
      "image/png": "[encoded data removed]",
      "text/plain": [
       "<Figure size 640x480 with 1 Axes>"
      ]
     },
     "metadata": {},
     "output_type": "display_data"
    },
    {
     "name": "stdout",
     "output_type": "stream",
     "text": [
      "ROLE_CODE\n"
     ]
    },
    {
     "data": {
      "image/png": "[encoded data removed]",
      "text/plain": [
       "<Figure size 640x480 with 1 Axes>"
      ]
     },
     "metadata": {},
     "output_type": "display_data"
    }
   ],
   "source": [
    "for col in train_df.iloc[:,0:6].columns:\n",
    "    print(col)\n",
    "    sns.boxplot(x = train_df[col], data = train_df, color = 'red')\n",
    "    plt.show()"
   ]
  },
  {
   "cell_type": "code",
   "execution_count": 13,
   "id": "43eb75e5",
   "metadata": {},
   "outputs": [],
   "source": [
    "def Outlier(var):\n",
    "    for x in var.iloc[:, 0:6].columns:\n",
    "        Q1 = var[x].quantile(0.25)\n",
    "        Q3 = var[x].quantile(0.75)\n",
    "        IQR = Q3-Q1\n",
    "        Lower = Q1-(1.5*IQR)\n",
    "        Upper = Q3+(1.5*IQR)\n",
    "        var.loc[:,x] = np.where(var[x].values > Upper, Upper, var[x].values)\n",
    "        var.loc[:,x] = np.where(var[x].values < Lower, Lower, var[x].values)\n",
    "    return var\n",
    "df_train = Outlier(train_df)"
   ]
  },
  {
   "cell_type": "code",
   "execution_count": 14,
   "id": "49c8f6d1",
   "metadata": {},
   "outputs": [
    {
     "name": "stdout",
     "output_type": "stream",
     "text": [
      "ROLE_ROLLUP_2\n"
     ]
    },
    {
     "data": {
      "image/png": "[encoded data removed]",
      "text/plain": [
       "<Figure size 640x480 with 1 Axes>"
      ]
     },
     "metadata": {},
     "output_type": "display_data"
    },
    {
     "name": "stdout",
     "output_type": "stream",
     "text": [
      "ROLE_DEPTNAME\n"
     ]
    },
    {
     "data": {
      "image/png": "[encoded data removed]",
      "text/plain": [
       "<Figure size 640x480 with 1 Axes>"
      ]
     },
     "metadata": {},
     "output_type": "display_data"
    },
    {
     "name": "stdout",
     "output_type": "stream",
     "text": [
      "ROLE_TITLE\n"
     ]
    },
    {
     "data": {
      "image/png": "[encoded data removed]",
      "text/plain": [
       "<Figure size 640x480 with 1 Axes>"
      ]
     },
     "metadata": {},
     "output_type": "display_data"
    },
    {
     "name": "stdout",
     "output_type": "stream",
     "text": [
      "ROLE_FAMILY_DESC\n"
     ]
    },
    {
     "data": {
      "image/png": "[encoded data removed]",
      "text/plain": [
       "<Figure size 640x480 with 1 Axes>"
      ]
     },
     "metadata": {},
     "output_type": "display_data"
    },
    {
     "name": "stdout",
     "output_type": "stream",
     "text": [
      "ROLE_FAMILY\n"
     ]
    },
    {
     "data": {
      "image/png": "[encoded data removed]",
      "text/plain": [
       "<Figure size 640x480 with 1 Axes>"
      ]
     },
     "metadata": {},
     "output_type": "display_data"
    },
    {
     "name": "stdout",
     "output_type": "stream",
     "text": [
      "ROLE_CODE\n"
     ]
    },
    {
     "data": {
      "image/png": "[encoded data removed]",
      "text/plain": [
       "<Figure size 640x480 with 1 Axes>"
      ]
     },
     "metadata": {},
     "output_type": "display_data"
    },
    {
     "name": "stdout",
     "output_type": "stream",
     "text": [
      "ACTION\n"
     ]
    },
    {
     "data": {
      "image/png": "[encoded data removed]",
      "text/plain": [
       "<Figure size 640x480 with 1 Axes>"
      ]
     },
     "metadata": {},
     "output_type": "display_data"
    }
   ],
   "source": [
    "for col in train_df.iloc[:,0:7].columns:\n",
    "    print(col)\n",
    "    sns.boxplot(x = train_df[col], data = train_df, color = 'red')\n",
    "    plt.show()"
   ]
  },
  {
   "cell_type": "code",
   "execution_count": 15,
   "id": "b87b0bba",
   "metadata": {},
   "outputs": [],
   "source": [
    "#train_df['RESOURCE'] = train_df['RESOURCE'].map(lambda x: np.log(x) if x > 0 else 0 )\n",
    "##train_df['ROLE_ROLLUP_1'] = np.log(train_df['ROLE_ROLLUP_1'])\n",
    "#train_df['ROLE_ROLLUP_2'] = np.log(train_df['ROLE_ROLLUP_2'])\n",
    "#train_df['ROLE_DEPTNAME'] = np.log(train_df['ROLE_DEPTNAME'])\n",
    "#train_df['ROLE_TITLE'] = np.log(train_df['ROLE_TITLE'])\n",
    "#train_df['ROLE_CODE'] = np.log(train_df['ROLE_CODE'])"
   ]
  },
  {
   "cell_type": "code",
   "execution_count": 16,
   "id": "a83262cc",
   "metadata": {},
   "outputs": [],
   "source": [
    "#train_df['ACTION'] = train_df['ACTION'].map(lambda x: np.log(x) if x > 0 else 0 )"
   ]
  },
  {
   "cell_type": "code",
   "execution_count": 17,
   "id": "140ae031",
   "metadata": {},
   "outputs": [],
   "source": [
    "#train_df.drop('MGR_ID','RESOURCE' axis = 1, inplace = True)"
   ]
  },
  {
   "cell_type": "code",
   "execution_count": 18,
   "id": "271314e4",
   "metadata": {},
   "outputs": [
    {
     "data": {
      "text/html": [
       "<div>\n",
       "<style scoped>\n",
       "    .dataframe tbody tr th:only-of-type {\n",
       "        vertical-align: middle;\n",
       "    }\n",
       "\n",
       "    .dataframe tbody tr th {\n",
       "        vertical-align: top;\n",
       "    }\n",
       "\n",
       "    .dataframe thead th {\n",
       "        text-align: right;\n",
       "    }\n",
       "</style>\n",
       "<table border=\"1\" class=\"dataframe\">\n",
       "  <thead>\n",
       "    <tr style=\"text-align: right;\">\n",
       "      <th></th>\n",
       "      <th>ROLE_ROLLUP_2</th>\n",
       "      <th>ROLE_DEPTNAME</th>\n",
       "      <th>ROLE_TITLE</th>\n",
       "      <th>ROLE_FAMILY_DESC</th>\n",
       "      <th>ROLE_FAMILY</th>\n",
       "      <th>ROLE_CODE</th>\n",
       "      <th>ACTION</th>\n",
       "    </tr>\n",
       "  </thead>\n",
       "  <tbody>\n",
       "    <tr>\n",
       "      <th>0</th>\n",
       "      <td>118316.0</td>\n",
       "      <td>118202.0</td>\n",
       "      <td>118784.0</td>\n",
       "      <td>262095.0</td>\n",
       "      <td>290919.0</td>\n",
       "      <td>118786.0</td>\n",
       "      <td>1</td>\n",
       "    </tr>\n",
       "    <tr>\n",
       "      <th>1</th>\n",
       "      <td>118300.0</td>\n",
       "      <td>120312.0</td>\n",
       "      <td>120313.0</td>\n",
       "      <td>120314.0</td>\n",
       "      <td>118424.0</td>\n",
       "      <td>120315.0</td>\n",
       "      <td>1</td>\n",
       "    </tr>\n",
       "    <tr>\n",
       "      <th>2</th>\n",
       "      <td>118178.0</td>\n",
       "      <td>118320.0</td>\n",
       "      <td>117905.0</td>\n",
       "      <td>117906.0</td>\n",
       "      <td>290919.0</td>\n",
       "      <td>117908.0</td>\n",
       "      <td>1</td>\n",
       "    </tr>\n",
       "    <tr>\n",
       "      <th>3</th>\n",
       "      <td>118343.0</td>\n",
       "      <td>123483.5</td>\n",
       "      <td>117905.0</td>\n",
       "      <td>240983.0</td>\n",
       "      <td>290919.0</td>\n",
       "      <td>117908.0</td>\n",
       "      <td>1</td>\n",
       "    </tr>\n",
       "    <tr>\n",
       "      <th>4</th>\n",
       "      <td>118386.0</td>\n",
       "      <td>118522.0</td>\n",
       "      <td>117905.0</td>\n",
       "      <td>117906.0</td>\n",
       "      <td>290919.0</td>\n",
       "      <td>117908.0</td>\n",
       "      <td>1</td>\n",
       "    </tr>\n",
       "  </tbody>\n",
       "</table>\n",
       "</div>"
      ],
      "text/plain": [
       "   ROLE_ROLLUP_2  ROLE_DEPTNAME  ROLE_TITLE  ROLE_FAMILY_DESC  ROLE_FAMILY  \\\n",
       "0       118316.0       118202.0    118784.0          262095.0     290919.0   \n",
       "1       118300.0       120312.0    120313.0          120314.0     118424.0   \n",
       "2       118178.0       118320.0    117905.0          117906.0     290919.0   \n",
       "3       118343.0       123483.5    117905.0          240983.0     290919.0   \n",
       "4       118386.0       118522.0    117905.0          117906.0     290919.0   \n",
       "\n",
       "   ROLE_CODE  ACTION  \n",
       "0   118786.0       1  \n",
       "1   120315.0       1  \n",
       "2   117908.0       1  \n",
       "3   117908.0       1  \n",
       "4   117908.0       1  "
      ]
     },
     "execution_count": 18,
     "metadata": {},
     "output_type": "execute_result"
    }
   ],
   "source": [
    "df_train.head()"
   ]
  },
  {
   "cell_type": "markdown",
   "id": "ec8fd522",
   "metadata": {},
   "source": [
    "# Train-Test Split :"
   ]
  },
  {
   "cell_type": "code",
   "execution_count": 19,
   "id": "ba034047",
   "metadata": {},
   "outputs": [],
   "source": [
    "x = train_df.drop('ACTION', axis = 1)\n",
    "y = train_df['ACTION']"
   ]
  },
  {
   "cell_type": "code",
   "execution_count": 20,
   "id": "ea5c6b74",
   "metadata": {},
   "outputs": [
    {
     "data": {
      "text/html": [
       "<div>\n",
       "<style scoped>\n",
       "    .dataframe tbody tr th:only-of-type {\n",
       "        vertical-align: middle;\n",
       "    }\n",
       "\n",
       "    .dataframe tbody tr th {\n",
       "        vertical-align: top;\n",
       "    }\n",
       "\n",
       "    .dataframe thead th {\n",
       "        text-align: right;\n",
       "    }\n",
       "</style>\n",
       "<table border=\"1\" class=\"dataframe\">\n",
       "  <thead>\n",
       "    <tr style=\"text-align: right;\">\n",
       "      <th></th>\n",
       "      <th>ROLE_ROLLUP_2</th>\n",
       "      <th>ROLE_DEPTNAME</th>\n",
       "      <th>ROLE_TITLE</th>\n",
       "      <th>ROLE_FAMILY_DESC</th>\n",
       "      <th>ROLE_FAMILY</th>\n",
       "      <th>ROLE_CODE</th>\n",
       "    </tr>\n",
       "  </thead>\n",
       "  <tbody>\n",
       "    <tr>\n",
       "      <th>0</th>\n",
       "      <td>118316.0</td>\n",
       "      <td>118202.0</td>\n",
       "      <td>118784.0</td>\n",
       "      <td>262095.0</td>\n",
       "      <td>290919.0</td>\n",
       "      <td>118786.0</td>\n",
       "    </tr>\n",
       "    <tr>\n",
       "      <th>1</th>\n",
       "      <td>118300.0</td>\n",
       "      <td>120312.0</td>\n",
       "      <td>120313.0</td>\n",
       "      <td>120314.0</td>\n",
       "      <td>118424.0</td>\n",
       "      <td>120315.0</td>\n",
       "    </tr>\n",
       "    <tr>\n",
       "      <th>2</th>\n",
       "      <td>118178.0</td>\n",
       "      <td>118320.0</td>\n",
       "      <td>117905.0</td>\n",
       "      <td>117906.0</td>\n",
       "      <td>290919.0</td>\n",
       "      <td>117908.0</td>\n",
       "    </tr>\n",
       "    <tr>\n",
       "      <th>3</th>\n",
       "      <td>118343.0</td>\n",
       "      <td>123483.5</td>\n",
       "      <td>117905.0</td>\n",
       "      <td>240983.0</td>\n",
       "      <td>290919.0</td>\n",
       "      <td>117908.0</td>\n",
       "    </tr>\n",
       "    <tr>\n",
       "      <th>4</th>\n",
       "      <td>118386.0</td>\n",
       "      <td>118522.0</td>\n",
       "      <td>117905.0</td>\n",
       "      <td>117906.0</td>\n",
       "      <td>290919.0</td>\n",
       "      <td>117908.0</td>\n",
       "    </tr>\n",
       "    <tr>\n",
       "      <th>...</th>\n",
       "      <td>...</td>\n",
       "      <td>...</td>\n",
       "      <td>...</td>\n",
       "      <td>...</td>\n",
       "      <td>...</td>\n",
       "      <td>...</td>\n",
       "    </tr>\n",
       "    <tr>\n",
       "      <th>24571</th>\n",
       "      <td>118343.0</td>\n",
       "      <td>118833.0</td>\n",
       "      <td>118834.0</td>\n",
       "      <td>309123.0</td>\n",
       "      <td>118424.0</td>\n",
       "      <td>118836.0</td>\n",
       "    </tr>\n",
       "    <tr>\n",
       "      <th>24572</th>\n",
       "      <td>118446.0</td>\n",
       "      <td>119064.0</td>\n",
       "      <td>120690.0</td>\n",
       "      <td>130887.0</td>\n",
       "      <td>290919.0</td>\n",
       "      <td>120692.0</td>\n",
       "    </tr>\n",
       "    <tr>\n",
       "      <th>24573</th>\n",
       "      <td>118327.0</td>\n",
       "      <td>121979.0</td>\n",
       "      <td>117905.0</td>\n",
       "      <td>117906.0</td>\n",
       "      <td>290919.0</td>\n",
       "      <td>117908.0</td>\n",
       "    </tr>\n",
       "    <tr>\n",
       "      <th>24574</th>\n",
       "      <td>117911.0</td>\n",
       "      <td>117920.0</td>\n",
       "      <td>122604.0</td>\n",
       "      <td>123191.0</td>\n",
       "      <td>19721.0</td>\n",
       "      <td>121069.0</td>\n",
       "    </tr>\n",
       "    <tr>\n",
       "      <th>24575</th>\n",
       "      <td>117981.0</td>\n",
       "      <td>117920.0</td>\n",
       "      <td>117879.0</td>\n",
       "      <td>117886.0</td>\n",
       "      <td>19721.0</td>\n",
       "      <td>117880.0</td>\n",
       "    </tr>\n",
       "  </tbody>\n",
       "</table>\n",
       "<p>24576 rows × 6 columns</p>\n",
       "</div>"
      ],
      "text/plain": [
       "       ROLE_ROLLUP_2  ROLE_DEPTNAME  ROLE_TITLE  ROLE_FAMILY_DESC  \\\n",
       "0           118316.0       118202.0    118784.0          262095.0   \n",
       "1           118300.0       120312.0    120313.0          120314.0   \n",
       "2           118178.0       118320.0    117905.0          117906.0   \n",
       "3           118343.0       123483.5    117905.0          240983.0   \n",
       "4           118386.0       118522.0    117905.0          117906.0   \n",
       "...              ...            ...         ...               ...   \n",
       "24571       118343.0       118833.0    118834.0          309123.0   \n",
       "24572       118446.0       119064.0    120690.0          130887.0   \n",
       "24573       118327.0       121979.0    117905.0          117906.0   \n",
       "24574       117911.0       117920.0    122604.0          123191.0   \n",
       "24575       117981.0       117920.0    117879.0          117886.0   \n",
       "\n",
       "       ROLE_FAMILY  ROLE_CODE  \n",
       "0         290919.0   118786.0  \n",
       "1         118424.0   120315.0  \n",
       "2         290919.0   117908.0  \n",
       "3         290919.0   117908.0  \n",
       "4         290919.0   117908.0  \n",
       "...            ...        ...  \n",
       "24571     118424.0   118836.0  \n",
       "24572     290919.0   120692.0  \n",
       "24573     290919.0   117908.0  \n",
       "24574      19721.0   121069.0  \n",
       "24575      19721.0   117880.0  \n",
       "\n",
       "[24576 rows x 6 columns]"
      ]
     },
     "execution_count": 20,
     "metadata": {},
     "output_type": "execute_result"
    }
   ],
   "source": [
    "x"
   ]
  },
  {
   "cell_type": "code",
   "execution_count": 21,
   "id": "a26da2ea",
   "metadata": {},
   "outputs": [
    {
     "data": {
      "text/plain": [
       "0        1\n",
       "1        1\n",
       "2        1\n",
       "3        1\n",
       "4        1\n",
       "        ..\n",
       "24571    1\n",
       "24572    1\n",
       "24573    1\n",
       "24574    1\n",
       "24575    1\n",
       "Name: ACTION, Length: 24576, dtype: int64"
      ]
     },
     "execution_count": 21,
     "metadata": {},
     "output_type": "execute_result"
    }
   ],
   "source": [
    "y"
   ]
  },
  {
   "cell_type": "code",
   "execution_count": 22,
   "id": "6bb64705",
   "metadata": {},
   "outputs": [],
   "source": [
    "from sklearn.model_selection import train_test_split\n",
    "\n",
    "x_train, x_test, y_train, y_test = train_test_split(x,y, test_size =0.30, random_state = 42)"
   ]
  },
  {
   "cell_type": "code",
   "execution_count": 23,
   "id": "3193ab7d",
   "metadata": {},
   "outputs": [
    {
     "name": "stdout",
     "output_type": "stream",
     "text": [
      "(17203, 6)\n",
      "(7373, 6)\n",
      "(17203,)\n",
      "(7373,)\n"
     ]
    }
   ],
   "source": [
    "print(x_train.shape)\n",
    "print(x_test.shape)\n",
    "print(y_train.shape)\n",
    "print(y_test.shape)"
   ]
  },
  {
   "cell_type": "code",
   "execution_count": 24,
   "id": "c8722b53",
   "metadata": {},
   "outputs": [],
   "source": [
    "#from imblearn. over_sampling import SMOTE"
   ]
  },
  {
   "cell_type": "code",
   "execution_count": 25,
   "id": "52a7323d",
   "metadata": {},
   "outputs": [],
   "source": [
    "#sm = SMOTE(random_state = 42)\n",
    "\n",
    "#x_res, y_res = sm.fit_resample(x,y)"
   ]
  },
  {
   "cell_type": "code",
   "execution_count": 26,
   "id": "e2750a05",
   "metadata": {},
   "outputs": [],
   "source": [
    "#y_res.value_counts()"
   ]
  },
  {
   "cell_type": "markdown",
   "id": "9098ae63",
   "metadata": {},
   "source": [
    "# Train-Test Split with Resample Data :"
   ]
  },
  {
   "cell_type": "code",
   "execution_count": 27,
   "id": "5b26ab66",
   "metadata": {},
   "outputs": [],
   "source": [
    "#from sklearn.model_selection import train_test_split\n",
    "\n",
    "\n",
    "#x_train_res, x_test_res, y_train_res, y_test_res = train_test_split(x_res, y_res, test_size = 0.20, random_state = 42)"
   ]
  },
  {
   "cell_type": "code",
   "execution_count": 28,
   "id": "b3028822",
   "metadata": {},
   "outputs": [],
   "source": [
    "#print(x_train_res.shape)\n",
    "#print(x_test_res.shape)\n",
    "#print(y_train_res.shape)\n",
    "#print(y_test_res.shape)"
   ]
  },
  {
   "cell_type": "code",
   "execution_count": 29,
   "id": "02b9f556",
   "metadata": {},
   "outputs": [],
   "source": [
    "#using StandardScaler :\n",
    "from sklearn.preprocessing import StandardScaler\n",
    "\n",
    "scaler = StandardScaler()"
   ]
  },
  {
   "cell_type": "code",
   "execution_count": 30,
   "id": "d48c4105",
   "metadata": {},
   "outputs": [],
   "source": [
    "x_train_ = scaler.fit_transform(x_train)\n",
    "x_test = scaler.transform(x_test)"
   ]
  },
  {
   "cell_type": "markdown",
   "id": "683dda9f",
   "metadata": {},
   "source": [
    "# Feature Selection :"
   ]
  },
  {
   "cell_type": "code",
   "execution_count": 31,
   "id": "2f0012b7",
   "metadata": {},
   "outputs": [
    {
     "name": "stdout",
     "output_type": "stream",
     "text": [
      "Total Features Selected are 3\n",
      "Threshold set by Model: 0.17\n",
      "Important Features: ['ROLE_ROLLUP_2', 'ROLE_DEPTNAME', 'ROLE_FAMILY_DESC']\n"
     ]
    }
   ],
   "source": [
    "from sklearn.feature_selection import SelectFromModel\n",
    "from sklearn.ensemble import RandomForestClassifier\n",
    "\n",
    "selector = SelectFromModel(estimator=RandomForestClassifier(n_estimators = 100, random_state = 42, n_jobs = -1))\n",
    "selector.fit(x, y)\n",
    "\n",
    "selected_feat = x.columns[(selector.get_support())].tolist()\n",
    "\n",
    "print('Total Features Selected are', len(selected_feat))\n",
    "\n",
    "print('Threshold set by Model:', np.round(selector.threshold_, decimals = 2))\n",
    "print('Important Features:', selected_feat)\n"
   ]
  },
  {
   "cell_type": "markdown",
   "id": "7e04d0fd",
   "metadata": {},
   "source": [
    "# Feature Importance :"
   ]
  },
  {
   "cell_type": "code",
   "execution_count": 32,
   "id": "0f55c3cd",
   "metadata": {},
   "outputs": [
    {
     "data": {
      "image/png": "[encoded data removed]",
      "text/plain": [
       "<Figure size 1500x800 with 1 Axes>"
      ]
     },
     "metadata": {},
     "output_type": "display_data"
    }
   ],
   "source": [
    "from yellowbrick.model_selection import FeatureImportances \n",
    "\n",
    "figure = plt.figure(figsize=[15, 8])\n",
    "viz = FeatureImportances(selector.estimator, relative=False)\n",
    "viz.fit(x, y)\n",
    "\n",
    "plt.xlabel('Relative Importance', size=14)\n",
    "plt.ylabel('Features', size=14)\n",
    "plt.title(label='Feature Importances', size=16)\n",
    "plt.show()"
   ]
  },
  {
   "cell_type": "markdown",
   "id": "481e0dd1",
   "metadata": {},
   "source": [
    "# Modelling :"
   ]
  },
  {
   "cell_type": "markdown",
   "id": "725d4f5b",
   "metadata": {},
   "source": [
    "# 1.Logistic Regression :"
   ]
  },
  {
   "cell_type": "code",
   "execution_count": 33,
   "id": "b303879d",
   "metadata": {},
   "outputs": [
    {
     "data": {
      "text/plain": [
       "LogisticRegression()"
      ]
     },
     "execution_count": 33,
     "metadata": {},
     "output_type": "execute_result"
    }
   ],
   "source": [
    "from sklearn.linear_model import LogisticRegression\n",
    "\n",
    "log_reg = LogisticRegression()\n",
    "log_reg.fit(x_train, y_train)"
   ]
  },
  {
   "cell_type": "code",
   "execution_count": 34,
   "id": "00d3fdc8",
   "metadata": {},
   "outputs": [
    {
     "data": {
      "text/plain": [
       "0.9408242748357845"
      ]
     },
     "execution_count": 34,
     "metadata": {},
     "output_type": "execute_result"
    }
   ],
   "source": [
    "acc_log_train = log_reg.score(x_train, y_train)\n",
    "acc_log_train"
   ]
  },
  {
   "cell_type": "code",
   "execution_count": 35,
   "id": "8219e825",
   "metadata": {},
   "outputs": [
    {
     "data": {
      "text/plain": [
       "0.4793164247931643"
      ]
     },
     "execution_count": 35,
     "metadata": {},
     "output_type": "execute_result"
    }
   ],
   "source": [
    "acc_log_test = log_reg.score(x_test, y_test)\n",
    "acc_log_test"
   ]
  },
  {
   "cell_type": "code",
   "execution_count": 36,
   "id": "7c3ca8bb",
   "metadata": {},
   "outputs": [],
   "source": [
    "y_pred_train = log_reg.predict(x_train)\n",
    "y_pred_test = log_reg.predict(x_test)"
   ]
  },
  {
   "cell_type": "code",
   "execution_count": 37,
   "id": "5dec9e9e",
   "metadata": {},
   "outputs": [],
   "source": [
    "def modelEval(actual, predicted):\n",
    "    cm = confusion_matrix(actual, predicted)\n",
    "    accuracy = accuracy_score(actual, predicted)\n",
    "    class_rep = classification_report(actual, predicted)\n",
    "    print(cm)\n",
    "    print('The accuracy of the Model is :', accuracy)\n",
    "    print(class_rep)"
   ]
  },
  {
   "cell_type": "markdown",
   "id": "8857c243",
   "metadata": {},
   "source": [
    "# Model Evaluation :"
   ]
  },
  {
   "cell_type": "code",
   "execution_count": 38,
   "id": "8ae27644",
   "metadata": {},
   "outputs": [
    {
     "name": "stdout",
     "output_type": "stream",
     "text": [
      "                    Training Report           \n",
      "[[    0  1018]\n",
      " [    0 16185]]\n",
      "The accuracy of the Model is : 0.9408242748357845\n",
      "              precision    recall  f1-score   support\n",
      "\n",
      "           0       0.00      0.00      0.00      1018\n",
      "           1       0.94      1.00      0.97     16185\n",
      "\n",
      "    accuracy                           0.94     17203\n",
      "   macro avg       0.47      0.50      0.48     17203\n",
      "weighted avg       0.89      0.94      0.91     17203\n",
      "\n"
     ]
    }
   ],
   "source": [
    "print('                    Training Report           ')\n",
    "modelEval(y_train, y_pred_train)"
   ]
  },
  {
   "cell_type": "code",
   "execution_count": 39,
   "id": "e5c4b2f0",
   "metadata": {},
   "outputs": [
    {
     "name": "stdout",
     "output_type": "stream",
     "text": [
      "               Testing Report                            \n",
      "[[ 215  195]\n",
      " [3644 3319]]\n",
      "The accuracy of the Model is : 0.4793164247931643\n",
      "              precision    recall  f1-score   support\n",
      "\n",
      "           0       0.06      0.52      0.10       410\n",
      "           1       0.94      0.48      0.63      6963\n",
      "\n",
      "    accuracy                           0.48      7373\n",
      "   macro avg       0.50      0.50      0.37      7373\n",
      "weighted avg       0.90      0.48      0.60      7373\n",
      "\n"
     ]
    }
   ],
   "source": [
    "print('               Testing Report                            ')\n",
    "modelEval(y_test, y_pred_test)"
   ]
  },
  {
   "cell_type": "markdown",
   "id": "ee20746c",
   "metadata": {},
   "source": [
    "# 2. Decision Tree Classifier :"
   ]
  },
  {
   "cell_type": "code",
   "execution_count": 40,
   "id": "537a0390",
   "metadata": {},
   "outputs": [
    {
     "data": {
      "text/plain": [
       "DecisionTreeClassifier()"
      ]
     },
     "execution_count": 40,
     "metadata": {},
     "output_type": "execute_result"
    }
   ],
   "source": [
    "from sklearn.tree import DecisionTreeClassifier\n",
    "\n",
    "tree = DecisionTreeClassifier()\n",
    "tree.fit(x_train, y_train)"
   ]
  },
  {
   "cell_type": "code",
   "execution_count": 41,
   "id": "fd7f88cd",
   "metadata": {},
   "outputs": [
    {
     "data": {
      "text/plain": [
       "0.9600651049235599"
      ]
     },
     "execution_count": 41,
     "metadata": {},
     "output_type": "execute_result"
    }
   ],
   "source": [
    "acc_Dtree_train = tree.score(x_train, y_train)\n",
    "acc_Dtree_train"
   ]
  },
  {
   "cell_type": "code",
   "execution_count": 42,
   "id": "b5b2ee78",
   "metadata": {},
   "outputs": [
    {
     "data": {
      "text/plain": [
       "0.944391699443917"
      ]
     },
     "execution_count": 42,
     "metadata": {},
     "output_type": "execute_result"
    }
   ],
   "source": [
    "acc_Dtree_test = tree.score(x_test, y_test)\n",
    "acc_Dtree_test"
   ]
  },
  {
   "cell_type": "code",
   "execution_count": 43,
   "id": "59904c92",
   "metadata": {},
   "outputs": [],
   "source": [
    "y_pred_dt_train = tree.predict(x_train)\n",
    "y_pred_dt_test = tree.predict(x_test)"
   ]
  },
  {
   "cell_type": "markdown",
   "id": "3ed8bce5",
   "metadata": {},
   "source": [
    "# Model Evaluation :"
   ]
  },
  {
   "cell_type": "code",
   "execution_count": 44,
   "id": "085d3710",
   "metadata": {},
   "outputs": [
    {
     "name": "stdout",
     "output_type": "stream",
     "text": [
      "                    Training Report           \n",
      "[[  544   474]\n",
      " [  213 15972]]\n",
      "The accuracy of the Model is : 0.9600651049235599\n",
      "              precision    recall  f1-score   support\n",
      "\n",
      "           0       0.72      0.53      0.61      1018\n",
      "           1       0.97      0.99      0.98     16185\n",
      "\n",
      "    accuracy                           0.96     17203\n",
      "   macro avg       0.84      0.76      0.80     17203\n",
      "weighted avg       0.96      0.96      0.96     17203\n",
      "\n"
     ]
    }
   ],
   "source": [
    "print('                    Training Report           ')\n",
    "modelEval(y_train, y_pred_dt_train)"
   ]
  },
  {
   "cell_type": "code",
   "execution_count": 45,
   "id": "8e46e1f8",
   "metadata": {},
   "outputs": [
    {
     "name": "stdout",
     "output_type": "stream",
     "text": [
      "               Testing Report                            \n",
      "[[   0  410]\n",
      " [   0 6963]]\n",
      "The accuracy of the Model is : 0.944391699443917\n",
      "              precision    recall  f1-score   support\n",
      "\n",
      "           0       0.00      0.00      0.00       410\n",
      "           1       0.94      1.00      0.97      6963\n",
      "\n",
      "    accuracy                           0.94      7373\n",
      "   macro avg       0.47      0.50      0.49      7373\n",
      "weighted avg       0.89      0.94      0.92      7373\n",
      "\n"
     ]
    }
   ],
   "source": [
    "print('               Testing Report                            ')\n",
    "modelEval(y_test, y_pred_dt_test)"
   ]
  },
  {
   "cell_type": "markdown",
   "id": "657adb07",
   "metadata": {},
   "source": [
    "# AdaBoost Classifier :"
   ]
  },
  {
   "cell_type": "code",
   "execution_count": 46,
   "id": "03e28d1d",
   "metadata": {},
   "outputs": [
    {
     "data": {
      "text/plain": [
       "AdaBoostClassifier(base_estimator=DecisionTreeClassifier())"
      ]
     },
     "execution_count": 46,
     "metadata": {},
     "output_type": "execute_result"
    }
   ],
   "source": [
    "from sklearn.ensemble import AdaBoostClassifier\n",
    "\n",
    "ada_tree = DecisionTreeClassifier()\n",
    "ada_class = AdaBoostClassifier(base_estimator = ada_tree)\n",
    "ada_class.fit(x_train, y_train)"
   ]
  },
  {
   "cell_type": "code",
   "execution_count": 47,
   "id": "83fbe7f6",
   "metadata": {},
   "outputs": [
    {
     "data": {
      "text/plain": [
       "0.9600651049235599"
      ]
     },
     "execution_count": 47,
     "metadata": {},
     "output_type": "execute_result"
    }
   ],
   "source": [
    "acc_ada_train = ada_class.score(x_train, y_train)\n",
    "acc_ada_train"
   ]
  },
  {
   "cell_type": "code",
   "execution_count": 48,
   "id": "3282f503",
   "metadata": {},
   "outputs": [
    {
     "data": {
      "text/plain": [
       "0.944391699443917"
      ]
     },
     "execution_count": 48,
     "metadata": {},
     "output_type": "execute_result"
    }
   ],
   "source": [
    "acc_ada_test = ada_class.score(x_test, y_test)\n",
    "acc_ada_test"
   ]
  },
  {
   "cell_type": "code",
   "execution_count": 49,
   "id": "8b001d22",
   "metadata": {},
   "outputs": [],
   "source": [
    "y_pred_ada_train = ada_class.predict(x_train)\n",
    "y_pred_ada_test = ada_class.predict(x_test)"
   ]
  },
  {
   "cell_type": "markdown",
   "id": "8d1c8794",
   "metadata": {},
   "source": [
    "# Model Evaluation :"
   ]
  },
  {
   "cell_type": "code",
   "execution_count": 50,
   "id": "d5fc3265",
   "metadata": {},
   "outputs": [
    {
     "name": "stdout",
     "output_type": "stream",
     "text": [
      "                    Training Report           \n",
      "[[  493   525]\n",
      " [  162 16023]]\n",
      "The accuracy of the Model is : 0.9600651049235599\n",
      "              precision    recall  f1-score   support\n",
      "\n",
      "           0       0.75      0.48      0.59      1018\n",
      "           1       0.97      0.99      0.98     16185\n",
      "\n",
      "    accuracy                           0.96     17203\n",
      "   macro avg       0.86      0.74      0.78     17203\n",
      "weighted avg       0.96      0.96      0.96     17203\n",
      "\n"
     ]
    }
   ],
   "source": [
    "print('                    Training Report           ')\n",
    "modelEval(y_train, y_pred_ada_train)"
   ]
  },
  {
   "cell_type": "code",
   "execution_count": 51,
   "id": "a001b971",
   "metadata": {},
   "outputs": [
    {
     "name": "stdout",
     "output_type": "stream",
     "text": [
      "               Testing Report                            \n",
      "[[   0  410]\n",
      " [   0 6963]]\n",
      "The accuracy of the Model is : 0.944391699443917\n",
      "              precision    recall  f1-score   support\n",
      "\n",
      "           0       0.00      0.00      0.00       410\n",
      "           1       0.94      1.00      0.97      6963\n",
      "\n",
      "    accuracy                           0.94      7373\n",
      "   macro avg       0.47      0.50      0.49      7373\n",
      "weighted avg       0.89      0.94      0.92      7373\n",
      "\n"
     ]
    }
   ],
   "source": [
    "print('               Testing Report                            ')\n",
    "modelEval(y_test, y_pred_ada_test)"
   ]
  },
  {
   "cell_type": "markdown",
   "id": "16193512",
   "metadata": {},
   "source": [
    "# Random Forest Classifier :"
   ]
  },
  {
   "cell_type": "code",
   "execution_count": 52,
   "id": "175df505",
   "metadata": {},
   "outputs": [
    {
     "data": {
      "text/plain": [
       "RandomForestClassifier()"
      ]
     },
     "execution_count": 52,
     "metadata": {},
     "output_type": "execute_result"
    }
   ],
   "source": [
    "from sklearn.ensemble import RandomForestClassifier\n",
    "\n",
    "clf_randF = RandomForestClassifier()\n",
    "clf_randF.fit(x_train, y_train)"
   ]
  },
  {
   "cell_type": "code",
   "execution_count": 53,
   "id": "384865f3",
   "metadata": {},
   "outputs": [
    {
     "data": {
      "text/plain": [
       "0.9600651049235599"
      ]
     },
     "execution_count": 53,
     "metadata": {},
     "output_type": "execute_result"
    }
   ],
   "source": [
    "acc_randForest_train = clf_randF.score(x_train, y_train)\n",
    "acc_randForest_train"
   ]
  },
  {
   "cell_type": "code",
   "execution_count": 54,
   "id": "2167515a",
   "metadata": {},
   "outputs": [
    {
     "data": {
      "text/plain": [
       "0.944391699443917"
      ]
     },
     "execution_count": 54,
     "metadata": {},
     "output_type": "execute_result"
    }
   ],
   "source": [
    "acc_randForest_test = clf_randF.score(x_test, y_test)\n",
    "acc_randForest_test"
   ]
  },
  {
   "cell_type": "code",
   "execution_count": 55,
   "id": "964fc659",
   "metadata": {},
   "outputs": [],
   "source": [
    "y_pred_rf_train = clf_randF.predict(x_train)\n",
    "y_pred_rf_test = clf_randF.predict(x_test)"
   ]
  },
  {
   "cell_type": "markdown",
   "id": "4ea38bce",
   "metadata": {},
   "source": [
    "# Model Evaluation :"
   ]
  },
  {
   "cell_type": "code",
   "execution_count": 56,
   "id": "0d32e1b3",
   "metadata": {},
   "outputs": [
    {
     "name": "stdout",
     "output_type": "stream",
     "text": [
      "                    Training Report           \n",
      "[[  457   561]\n",
      " [  126 16059]]\n",
      "The accuracy of the Model is : 0.9600651049235599\n",
      "              precision    recall  f1-score   support\n",
      "\n",
      "           0       0.78      0.45      0.57      1018\n",
      "           1       0.97      0.99      0.98     16185\n",
      "\n",
      "    accuracy                           0.96     17203\n",
      "   macro avg       0.88      0.72      0.77     17203\n",
      "weighted avg       0.96      0.96      0.95     17203\n",
      "\n"
     ]
    }
   ],
   "source": [
    "print('                    Training Report           ')\n",
    "modelEval(y_train, y_pred_rf_train)"
   ]
  },
  {
   "cell_type": "code",
   "execution_count": 57,
   "id": "dcacbe1e",
   "metadata": {},
   "outputs": [
    {
     "name": "stdout",
     "output_type": "stream",
     "text": [
      "               Testing Report                            \n",
      "[[   0  410]\n",
      " [   0 6963]]\n",
      "The accuracy of the Model is : 0.944391699443917\n",
      "              precision    recall  f1-score   support\n",
      "\n",
      "           0       0.00      0.00      0.00       410\n",
      "           1       0.94      1.00      0.97      6963\n",
      "\n",
      "    accuracy                           0.94      7373\n",
      "   macro avg       0.47      0.50      0.49      7373\n",
      "weighted avg       0.89      0.94      0.92      7373\n",
      "\n"
     ]
    }
   ],
   "source": [
    "print('               Testing Report                            ')\n",
    "modelEval(y_test, y_pred_rf_test)"
   ]
  },
  {
   "cell_type": "markdown",
   "id": "d5dd2ac1",
   "metadata": {},
   "source": [
    "# Bagging Classifier on Random Forest :"
   ]
  },
  {
   "cell_type": "code",
   "execution_count": 58,
   "id": "ebdbc724",
   "metadata": {},
   "outputs": [
    {
     "data": {
      "text/plain": [
       "BaggingClassifier(base_estimator=RandomForestClassifier())"
      ]
     },
     "execution_count": 58,
     "metadata": {},
     "output_type": "execute_result"
    }
   ],
   "source": [
    "from sklearn.ensemble import BaggingClassifier\n",
    "clf_rand = RandomForestClassifier()\n",
    "bag_clf = BaggingClassifier(base_estimator = clf_rand, n_estimators = 10)\n",
    "bag_clf.fit(x_train, y_train)"
   ]
  },
  {
   "cell_type": "code",
   "execution_count": 59,
   "id": "ff8ba300",
   "metadata": {},
   "outputs": [
    {
     "data": {
      "text/plain": [
       "0.9566935999534965"
      ]
     },
     "execution_count": 59,
     "metadata": {},
     "output_type": "execute_result"
    }
   ],
   "source": [
    "acc_bagRf_train = bag_clf.score(x_train, y_train)\n",
    "acc_bagRf_train"
   ]
  },
  {
   "cell_type": "code",
   "execution_count": 60,
   "id": "dd2dcee7",
   "metadata": {},
   "outputs": [
    {
     "data": {
      "text/plain": [
       "0.944391699443917"
      ]
     },
     "execution_count": 60,
     "metadata": {},
     "output_type": "execute_result"
    }
   ],
   "source": [
    "acc_bagRf_test = bag_clf.score(x_test, y_test)\n",
    "acc_bagRf_test"
   ]
  },
  {
   "cell_type": "code",
   "execution_count": 61,
   "id": "89865ef3",
   "metadata": {},
   "outputs": [],
   "source": [
    "y_pred_bag_train = bag_clf.predict(x_train)\n",
    "y_pred_bag_test = bag_clf.predict(x_test)"
   ]
  },
  {
   "cell_type": "markdown",
   "id": "d011c4f2",
   "metadata": {},
   "source": [
    "# Model Evaluation :"
   ]
  },
  {
   "cell_type": "code",
   "execution_count": 62,
   "id": "34809002",
   "metadata": {},
   "outputs": [
    {
     "name": "stdout",
     "output_type": "stream",
     "text": [
      "                    Training Report           \n",
      "[[  413   605]\n",
      " [  140 16045]]\n",
      "The accuracy of the Model is : 0.9566935999534965\n",
      "              precision    recall  f1-score   support\n",
      "\n",
      "           0       0.75      0.41      0.53      1018\n",
      "           1       0.96      0.99      0.98     16185\n",
      "\n",
      "    accuracy                           0.96     17203\n",
      "   macro avg       0.86      0.70      0.75     17203\n",
      "weighted avg       0.95      0.96      0.95     17203\n",
      "\n"
     ]
    }
   ],
   "source": [
    "print('                    Training Report           ')\n",
    "modelEval(y_train, y_pred_bag_train)"
   ]
  },
  {
   "cell_type": "code",
   "execution_count": 63,
   "id": "99db745b",
   "metadata": {},
   "outputs": [
    {
     "name": "stdout",
     "output_type": "stream",
     "text": [
      "               Testing Report                            \n",
      "[[   0  410]\n",
      " [   0 6963]]\n",
      "The accuracy of the Model is : 0.944391699443917\n",
      "              precision    recall  f1-score   support\n",
      "\n",
      "           0       0.00      0.00      0.00       410\n",
      "           1       0.94      1.00      0.97      6963\n",
      "\n",
      "    accuracy                           0.94      7373\n",
      "   macro avg       0.47      0.50      0.49      7373\n",
      "weighted avg       0.89      0.94      0.92      7373\n",
      "\n"
     ]
    }
   ],
   "source": [
    "print('               Testing Report                            ')\n",
    "modelEval(y_test, y_pred_bag_test)"
   ]
  },
  {
   "cell_type": "markdown",
   "id": "a71b0163",
   "metadata": {},
   "source": [
    "# KNeighborsClassifier :"
   ]
  },
  {
   "cell_type": "code",
   "execution_count": 64,
   "id": "4a970cd0",
   "metadata": {},
   "outputs": [
    {
     "data": {
      "text/plain": [
       "KNeighborsClassifier(n_neighbors=3)"
      ]
     },
     "execution_count": 64,
     "metadata": {},
     "output_type": "execute_result"
    }
   ],
   "source": [
    "from sklearn.neighbors import KNeighborsClassifier\n",
    "\n",
    "knn = KNeighborsClassifier(n_neighbors = 3)\n",
    "\n",
    "knn.fit(x_train, y_train)"
   ]
  },
  {
   "cell_type": "code",
   "execution_count": 65,
   "id": "9ac0b9f0",
   "metadata": {},
   "outputs": [
    {
     "data": {
      "text/plain": [
       "0.9502993663895832"
      ]
     },
     "execution_count": 65,
     "metadata": {},
     "output_type": "execute_result"
    }
   ],
   "source": [
    "acc_knn_train = knn.score(x_train, y_train\n",
    "                         )\n",
    "acc_knn_train"
   ]
  },
  {
   "cell_type": "code",
   "execution_count": 66,
   "id": "9b7d1e28",
   "metadata": {},
   "outputs": [
    {
     "data": {
      "text/plain": [
       "0.944391699443917"
      ]
     },
     "execution_count": 66,
     "metadata": {},
     "output_type": "execute_result"
    }
   ],
   "source": [
    "acc_knn_test = knn.score(x_test, y_test)\n",
    "acc_knn_test"
   ]
  },
  {
   "cell_type": "code",
   "execution_count": 67,
   "id": "fb62a518",
   "metadata": {},
   "outputs": [],
   "source": [
    "y_pred_kn_train = knn.predict(x_train)\n",
    "y_pred_kn_test = knn.predict(x_test)"
   ]
  },
  {
   "cell_type": "markdown",
   "id": "ccfb9ba1",
   "metadata": {},
   "source": [
    "# Model Evaluation :"
   ]
  },
  {
   "cell_type": "code",
   "execution_count": 68,
   "id": "4f333d01",
   "metadata": {},
   "outputs": [
    {
     "name": "stdout",
     "output_type": "stream",
     "text": [
      "                    Training Report           \n",
      "[[  429   589]\n",
      " [  266 15919]]\n",
      "The accuracy of the Model is : 0.9502993663895832\n",
      "              precision    recall  f1-score   support\n",
      "\n",
      "           0       0.62      0.42      0.50      1018\n",
      "           1       0.96      0.98      0.97     16185\n",
      "\n",
      "    accuracy                           0.95     17203\n",
      "   macro avg       0.79      0.70      0.74     17203\n",
      "weighted avg       0.94      0.95      0.95     17203\n",
      "\n"
     ]
    }
   ],
   "source": [
    "print('                    Training Report           ')\n",
    "modelEval(y_train, y_pred_kn_train)"
   ]
  },
  {
   "cell_type": "code",
   "execution_count": 69,
   "id": "0cfb4e34",
   "metadata": {},
   "outputs": [
    {
     "name": "stdout",
     "output_type": "stream",
     "text": [
      "               Testing Report                            \n",
      "[[   0  410]\n",
      " [   0 6963]]\n",
      "The accuracy of the Model is : 0.944391699443917\n",
      "              precision    recall  f1-score   support\n",
      "\n",
      "           0       0.00      0.00      0.00       410\n",
      "           1       0.94      1.00      0.97      6963\n",
      "\n",
      "    accuracy                           0.94      7373\n",
      "   macro avg       0.47      0.50      0.49      7373\n",
      "weighted avg       0.89      0.94      0.92      7373\n",
      "\n"
     ]
    }
   ],
   "source": [
    "print('               Testing Report                            ')\n",
    "modelEval(y_test, y_pred_kn_test)"
   ]
  },
  {
   "cell_type": "markdown",
   "id": "7ab6047b",
   "metadata": {},
   "source": [
    "# XGBClassifier :"
   ]
  },
  {
   "cell_type": "code",
   "execution_count": 70,
   "id": "435c86bb",
   "metadata": {},
   "outputs": [],
   "source": [
    "import xgboost as xgb"
   ]
  },
  {
   "cell_type": "code",
   "execution_count": 71,
   "id": "66adf7d8",
   "metadata": {},
   "outputs": [
    {
     "data": {
      "text/plain": [
       "XGBClassifier(base_score=0.5, booster='gbtree', callbacks=None,\n",
       "              colsample_bylevel=1, colsample_bynode=1, colsample_bytree=1,\n",
       "              early_stopping_rounds=None, enable_categorical=False,\n",
       "              eval_metric=None, feature_types=None, gamma=0, gpu_id=-1,\n",
       "              grow_policy='depthwise', importance_type=None,\n",
       "              interaction_constraints='', learning_rate=0.300000012,\n",
       "              max_bin=256, max_cat_threshold=64, max_cat_to_onehot=4,\n",
       "              max_delta_step=0, max_depth=6, max_leaves=0, min_child_weight=1,\n",
       "              missing=nan, monotone_constraints='()', n_estimators=100,\n",
       "              n_jobs=0, num_parallel_tree=1, predictor='auto', random_state=0, ...)"
      ]
     },
     "execution_count": 71,
     "metadata": {},
     "output_type": "execute_result"
    }
   ],
   "source": [
    "xgb_cl = xgb.XGBClassifier()\n",
    "xgb_cl.fit(x_train, y_train)"
   ]
  },
  {
   "cell_type": "code",
   "execution_count": 72,
   "id": "1af924c1",
   "metadata": {},
   "outputs": [
    {
     "data": {
      "text/plain": [
       "0.9550659768645003"
      ]
     },
     "execution_count": 72,
     "metadata": {},
     "output_type": "execute_result"
    }
   ],
   "source": [
    "acc_xgb_train = xgb_cl.score(x_train, y_train)\n",
    "acc_xgb_train"
   ]
  },
  {
   "cell_type": "code",
   "execution_count": 73,
   "id": "63d4a934",
   "metadata": {},
   "outputs": [
    {
     "data": {
      "text/plain": [
       "0.944391699443917"
      ]
     },
     "execution_count": 73,
     "metadata": {},
     "output_type": "execute_result"
    }
   ],
   "source": [
    "acc_xgb_test = xgb_cl.score(x_test, y_test)\n",
    "acc_xgb_test"
   ]
  },
  {
   "cell_type": "code",
   "execution_count": 74,
   "id": "78e60638",
   "metadata": {},
   "outputs": [],
   "source": [
    "y_pred_xg_train = xgb_cl.predict(x_train)\n",
    "y_pred_xg_test = xgb_cl.predict(x_test)"
   ]
  },
  {
   "cell_type": "markdown",
   "id": "ece6bc31",
   "metadata": {},
   "source": [
    "# Model Evaluation :"
   ]
  },
  {
   "cell_type": "code",
   "execution_count": 75,
   "id": "b7756fad",
   "metadata": {},
   "outputs": [
    {
     "name": "stdout",
     "output_type": "stream",
     "text": [
      "                    Training Report           \n",
      "[[  326   692]\n",
      " [   81 16104]]\n",
      "The accuracy of the Model is : 0.9550659768645003\n",
      "              precision    recall  f1-score   support\n",
      "\n",
      "           0       0.80      0.32      0.46      1018\n",
      "           1       0.96      0.99      0.98     16185\n",
      "\n",
      "    accuracy                           0.96     17203\n",
      "   macro avg       0.88      0.66      0.72     17203\n",
      "weighted avg       0.95      0.96      0.95     17203\n",
      "\n"
     ]
    }
   ],
   "source": [
    "print('                    Training Report           ')\n",
    "modelEval(y_train, y_pred_xg_train)"
   ]
  },
  {
   "cell_type": "code",
   "execution_count": 76,
   "id": "814c1f4f",
   "metadata": {},
   "outputs": [
    {
     "name": "stdout",
     "output_type": "stream",
     "text": [
      "               Testing Report                            \n",
      "[[   0  410]\n",
      " [   0 6963]]\n",
      "The accuracy of the Model is : 0.944391699443917\n",
      "              precision    recall  f1-score   support\n",
      "\n",
      "           0       0.00      0.00      0.00       410\n",
      "           1       0.94      1.00      0.97      6963\n",
      "\n",
      "    accuracy                           0.94      7373\n",
      "   macro avg       0.47      0.50      0.49      7373\n",
      "weighted avg       0.89      0.94      0.92      7373\n",
      "\n"
     ]
    }
   ],
   "source": [
    "print('               Testing Report                            ')\n",
    "modelEval(y_test, y_pred_xg_test)"
   ]
  },
  {
   "cell_type": "code",
   "execution_count": 77,
   "id": "ab39bcb0",
   "metadata": {},
   "outputs": [
    {
     "data": {
      "text/html": [
       "<div>\n",
       "<style scoped>\n",
       "    .dataframe tbody tr th:only-of-type {\n",
       "        vertical-align: middle;\n",
       "    }\n",
       "\n",
       "    .dataframe tbody tr th {\n",
       "        vertical-align: top;\n",
       "    }\n",
       "\n",
       "    .dataframe thead th {\n",
       "        text-align: right;\n",
       "    }\n",
       "</style>\n",
       "<table border=\"1\" class=\"dataframe\">\n",
       "  <thead>\n",
       "    <tr style=\"text-align: right;\">\n",
       "      <th></th>\n",
       "      <th>Model</th>\n",
       "      <th>Training Score</th>\n",
       "      <th>Testing Score</th>\n",
       "    </tr>\n",
       "  </thead>\n",
       "  <tbody>\n",
       "    <tr>\n",
       "      <th>0</th>\n",
       "      <td>Decision Tree Classifier</td>\n",
       "      <td>0.960065</td>\n",
       "      <td>0.944392</td>\n",
       "    </tr>\n",
       "    <tr>\n",
       "      <th>1</th>\n",
       "      <td>ADABoost Classifier</td>\n",
       "      <td>0.960065</td>\n",
       "      <td>0.944392</td>\n",
       "    </tr>\n",
       "    <tr>\n",
       "      <th>2</th>\n",
       "      <td>Random Forest Classifier</td>\n",
       "      <td>0.960065</td>\n",
       "      <td>0.944392</td>\n",
       "    </tr>\n",
       "    <tr>\n",
       "      <th>3</th>\n",
       "      <td>Bagging Classifier</td>\n",
       "      <td>0.956694</td>\n",
       "      <td>0.944392</td>\n",
       "    </tr>\n",
       "    <tr>\n",
       "      <th>4</th>\n",
       "      <td>XGBoost Classifier</td>\n",
       "      <td>0.955066</td>\n",
       "      <td>0.944392</td>\n",
       "    </tr>\n",
       "    <tr>\n",
       "      <th>5</th>\n",
       "      <td>KNeighbors</td>\n",
       "      <td>0.950299</td>\n",
       "      <td>0.944392</td>\n",
       "    </tr>\n",
       "    <tr>\n",
       "      <th>6</th>\n",
       "      <td>Logistic Regression</td>\n",
       "      <td>0.940824</td>\n",
       "      <td>0.479316</td>\n",
       "    </tr>\n",
       "  </tbody>\n",
       "</table>\n",
       "</div>"
      ],
      "text/plain": [
       "                      Model  Training Score  Testing Score\n",
       "0  Decision Tree Classifier        0.960065       0.944392\n",
       "1       ADABoost Classifier        0.960065       0.944392\n",
       "2  Random Forest Classifier        0.960065       0.944392\n",
       "3        Bagging Classifier        0.956694       0.944392\n",
       "4        XGBoost Classifier        0.955066       0.944392\n",
       "5                KNeighbors        0.950299       0.944392\n",
       "6       Logistic Regression        0.940824       0.479316"
      ]
     },
     "execution_count": 77,
     "metadata": {},
     "output_type": "execute_result"
    }
   ],
   "source": [
    "models = pd.DataFrame({ 'Model': ['Logistic Regression', 'Decision Tree Classifier', 'ADABoost Classifier',\n",
    "                                 'Random Forest Classifier', 'Bagging Classifier', 'KNeighbors', 'XGBoost Classifier'],\n",
    "                       'Training Score': [acc_log_train, acc_Dtree_train, acc_ada_train,\n",
    "                                         acc_randForest_train, acc_bagRf_train, acc_knn_train, acc_xgb_train],\n",
    "                       'Testing Score': [acc_log_test, acc_Dtree_test, acc_ada_test, acc_randForest_test, acc_bagRf_test, acc_knn_test,\n",
    "                                        acc_xgb_test]})\n",
    "models.sort_values(by = ['Training Score', 'Testing Score'], ascending = False, ignore_index = True)"
   ]
  },
  {
   "cell_type": "markdown",
   "id": "ab746621",
   "metadata": {},
   "source": [
    "# Kfold Cross Validation :"
   ]
  },
  {
   "cell_type": "code",
   "execution_count": 78,
   "id": "421bccf1",
   "metadata": {},
   "outputs": [],
   "source": [
    "from sklearn.model_selection import KFold\n",
    "from sklearn.model_selection import cross_val_score"
   ]
  },
  {
   "cell_type": "code",
   "execution_count": 79,
   "id": "20638857",
   "metadata": {},
   "outputs": [],
   "source": [
    "classifiers = []\n",
    "\n",
    "classifiers.append(LogisticRegression())\n",
    "classifiers.append(RandomForestClassifier())\n",
    "classifiers.append(DecisionTreeClassifier())\n",
    "classifiers.append(BaggingClassifier())\n",
    "classifiers.append(AdaBoostClassifier())\n",
    "classifiers.append(KNeighborsClassifier(n_neighbors = 3))\n",
    "classifiers.append(xgb.XGBClassifier())"
   ]
  },
  {
   "cell_type": "code",
   "execution_count": 80,
   "id": "586a3cf5",
   "metadata": {},
   "outputs": [],
   "source": [
    "cv_results = []\n",
    "\n",
    "for classifier in classifiers:\n",
    "    cv_results.append(cross_val_score(classifier, x_train, y_train, scoring = 'accuracy', cv = 10))"
   ]
  },
  {
   "cell_type": "code",
   "execution_count": 81,
   "id": "3fe851e3",
   "metadata": {},
   "outputs": [
    {
     "data": {
      "text/plain": [
       "[array([0.94073213, 0.94073213, 0.94073213, 0.94127907, 0.94127907,\n",
       "        0.94069767, 0.94069767, 0.94069767, 0.94069767, 0.94069767]),\n",
       " array([0.93898896, 0.94073213, 0.94073213, 0.94069767, 0.9372093 ,\n",
       "        0.94360465, 0.93837209, 0.93837209, 0.95116279, 0.94069767]),\n",
       " array([0.92620569, 0.93608367, 0.93143521, 0.93372093, 0.925     ,\n",
       "        0.93081395, 0.93023256, 0.92848837, 0.94011628, 0.92965116]),\n",
       " array([0.94015107, 0.93608367, 0.94131319, 0.93662791, 0.93662791,\n",
       "        0.93953488, 0.94069767, 0.93895349, 0.94593023, 0.93662791]),\n",
       " array([0.94073213, 0.94073213, 0.94073213, 0.94127907, 0.94127907,\n",
       "        0.94069767, 0.94069767, 0.94069767, 0.94069767, 0.94069767]),\n",
       " array([0.93957002, 0.93143521, 0.93957002, 0.93255814, 0.93372093,\n",
       "        0.93255814, 0.92965116, 0.93546512, 0.94534884, 0.93837209]),\n",
       " array([0.94479954, 0.94712377, 0.94363742, 0.94534884, 0.94360465,\n",
       "        0.94476744, 0.94418605, 0.94186047, 0.94534884, 0.94418605])]"
      ]
     },
     "execution_count": 81,
     "metadata": {},
     "output_type": "execute_result"
    }
   ],
   "source": [
    "cv_results"
   ]
  },
  {
   "cell_type": "code",
   "execution_count": 82,
   "id": "de9339a5",
   "metadata": {},
   "outputs": [],
   "source": [
    "cv_mean = []\n",
    "cv_std = []\n",
    "for cv_result in cv_results:\n",
    "    cv_mean.append(cv_result.mean())\n",
    "    cv_std.append(cv_result.std())"
   ]
  },
  {
   "cell_type": "code",
   "execution_count": 83,
   "id": "e6ba6b85",
   "metadata": {},
   "outputs": [
    {
     "data": {
      "text/html": [
       "<div>\n",
       "<style scoped>\n",
       "    .dataframe tbody tr th:only-of-type {\n",
       "        vertical-align: middle;\n",
       "    }\n",
       "\n",
       "    .dataframe tbody tr th {\n",
       "        vertical-align: top;\n",
       "    }\n",
       "\n",
       "    .dataframe thead th {\n",
       "        text-align: right;\n",
       "    }\n",
       "</style>\n",
       "<table border=\"1\" class=\"dataframe\">\n",
       "  <thead>\n",
       "    <tr style=\"text-align: right;\">\n",
       "      <th></th>\n",
       "      <th>Cross Validation Mean</th>\n",
       "      <th>Cross Validation Std</th>\n",
       "      <th>Algorithm</th>\n",
       "    </tr>\n",
       "  </thead>\n",
       "  <tbody>\n",
       "    <tr>\n",
       "      <th>0</th>\n",
       "      <td>0.944486</td>\n",
       "      <td>0.001311</td>\n",
       "      <td>XGBoost Classifier</td>\n",
       "    </tr>\n",
       "    <tr>\n",
       "      <th>1</th>\n",
       "      <td>0.941057</td>\n",
       "      <td>0.003776</td>\n",
       "      <td>Decision Tree</td>\n",
       "    </tr>\n",
       "    <tr>\n",
       "      <th>2</th>\n",
       "      <td>0.940824</td>\n",
       "      <td>0.000228</td>\n",
       "      <td>Random Forest</td>\n",
       "    </tr>\n",
       "    <tr>\n",
       "      <th>3</th>\n",
       "      <td>0.940824</td>\n",
       "      <td>0.000228</td>\n",
       "      <td>Logistic Regression</td>\n",
       "    </tr>\n",
       "    <tr>\n",
       "      <th>4</th>\n",
       "      <td>0.939255</td>\n",
       "      <td>0.002874</td>\n",
       "      <td>ADABoost Classifier</td>\n",
       "    </tr>\n",
       "    <tr>\n",
       "      <th>5</th>\n",
       "      <td>0.935825</td>\n",
       "      <td>0.004567</td>\n",
       "      <td>KNeighbors Classifier</td>\n",
       "    </tr>\n",
       "    <tr>\n",
       "      <th>6</th>\n",
       "      <td>0.931175</td>\n",
       "      <td>0.004289</td>\n",
       "      <td>Bagging Classifier</td>\n",
       "    </tr>\n",
       "  </tbody>\n",
       "</table>\n",
       "</div>"
      ],
      "text/plain": [
       "   Cross Validation Mean  Cross Validation Std              Algorithm\n",
       "0               0.944486              0.001311     XGBoost Classifier\n",
       "1               0.941057              0.003776          Decision Tree\n",
       "2               0.940824              0.000228          Random Forest\n",
       "3               0.940824              0.000228    Logistic Regression\n",
       "4               0.939255              0.002874    ADABoost Classifier\n",
       "5               0.935825              0.004567  KNeighbors Classifier\n",
       "6               0.931175              0.004289     Bagging Classifier"
      ]
     },
     "execution_count": 83,
     "metadata": {},
     "output_type": "execute_result"
    }
   ],
   "source": [
    "cv_res = pd.DataFrame({'Cross Validation Mean': cv_mean, 'Cross Validation Std': cv_std, 'Algorithm':['Random Forest', 'Decision Tree', 'Bagging Classifier', 'ADABoost Classifier', 'Logistic Regression', 'KNeighbors Classifier', 'XGBoost Classifier']})\n",
    "cv_res.sort_values(by = 'Cross Validation Mean', ascending  = False, ignore_index = True)"
   ]
  },
  {
   "cell_type": "markdown",
   "id": "87fd743c",
   "metadata": {},
   "source": [
    "# Hyperparameter tuning using GridSearch on XGBoost Classifier :"
   ]
  },
  {
   "cell_type": "code",
   "execution_count": 84,
   "id": "e46d6ff1",
   "metadata": {},
   "outputs": [],
   "source": [
    "from sklearn.model_selection import GridSearchCV"
   ]
  },
  {
   "cell_type": "code",
   "execution_count": 85,
   "id": "5d7d6569",
   "metadata": {},
   "outputs": [],
   "source": [
    "model = xgb.XGBClassifier()"
   ]
  },
  {
   "cell_type": "code",
   "execution_count": 86,
   "id": "09f2b975",
   "metadata": {},
   "outputs": [],
   "source": [
    "param_grid={\n",
    "    \"n_estimators\":np.arange(100,1500,100),\n",
    "    \"max_depth\": np.arange(3,11,2),\n",
    "    \"learning_rate\": np.arange(0.001,0.1)\n",
    "}"
   ]
  },
  {
   "cell_type": "code",
   "execution_count": 87,
   "id": "dbdc87de",
   "metadata": {},
   "outputs": [
    {
     "name": "stdout",
     "output_type": "stream",
     "text": [
      "Fitting 5 folds for each of 56 candidates, totalling 280 fits\n",
      "[CV 1/5] END learning_rate=0.001, max_depth=3, n_estimators=100;, score=0.941 total time=   0.0s\n",
      "[CV 2/5] END learning_rate=0.001, max_depth=3, n_estimators=100;, score=0.940 total time=   0.0s\n",
      "[CV 3/5] END learning_rate=0.001, max_depth=3, n_estimators=100;, score=0.940 total time=   0.0s\n",
      "[CV 4/5] END learning_rate=0.001, max_depth=3, n_estimators=100;, score=0.941 total time=   0.0s\n",
      "[CV 5/5] END learning_rate=0.001, max_depth=3, n_estimators=100;, score=0.940 total time=   0.0s\n",
      "[CV 1/5] END learning_rate=0.001, max_depth=3, n_estimators=200;, score=0.941 total time=   0.1s\n",
      "[CV 2/5] END learning_rate=0.001, max_depth=3, n_estimators=200;, score=0.941 total time=   0.1s\n",
      "[CV 3/5] END learning_rate=0.001, max_depth=3, n_estimators=200;, score=0.940 total time=   0.2s\n",
      "[CV 4/5] END learning_rate=0.001, max_depth=3, n_estimators=200;, score=0.941 total time=   0.1s\n",
      "[CV 5/5] END learning_rate=0.001, max_depth=3, n_estimators=200;, score=0.941 total time=   0.1s\n",
      "[CV 1/5] END learning_rate=0.001, max_depth=3, n_estimators=300;, score=0.941 total time=   0.2s\n",
      "[CV 2/5] END learning_rate=0.001, max_depth=3, n_estimators=300;, score=0.941 total time=   0.2s\n",
      "[CV 3/5] END learning_rate=0.001, max_depth=3, n_estimators=300;, score=0.941 total time=   0.2s\n",
      "[CV 4/5] END learning_rate=0.001, max_depth=3, n_estimators=300;, score=0.941 total time=   0.2s\n",
      "[CV 5/5] END learning_rate=0.001, max_depth=3, n_estimators=300;, score=0.941 total time=   0.2s\n",
      "[CV 1/5] END learning_rate=0.001, max_depth=3, n_estimators=400;, score=0.941 total time=   0.3s\n",
      "[CV 2/5] END learning_rate=0.001, max_depth=3, n_estimators=400;, score=0.941 total time=   0.3s\n",
      "[CV 3/5] END learning_rate=0.001, max_depth=3, n_estimators=400;, score=0.941 total time=   0.3s\n",
      "[CV 4/5] END learning_rate=0.001, max_depth=3, n_estimators=400;, score=0.941 total time=   0.3s\n",
      "[CV 5/5] END learning_rate=0.001, max_depth=3, n_estimators=400;, score=0.941 total time=   0.3s\n",
      "[CV 1/5] END learning_rate=0.001, max_depth=3, n_estimators=500;, score=0.941 total time=   0.4s\n",
      "[CV 2/5] END learning_rate=0.001, max_depth=3, n_estimators=500;, score=0.941 total time=   0.4s\n",
      "[CV 3/5] END learning_rate=0.001, max_depth=3, n_estimators=500;, score=0.941 total time=   0.4s\n",
      "[CV 4/5] END learning_rate=0.001, max_depth=3, n_estimators=500;, score=0.941 total time=   0.4s\n",
      "[CV 5/5] END learning_rate=0.001, max_depth=3, n_estimators=500;, score=0.941 total time=   0.4s\n",
      "[CV 1/5] END learning_rate=0.001, max_depth=3, n_estimators=600;, score=0.941 total time=   0.5s\n",
      "[CV 2/5] END learning_rate=0.001, max_depth=3, n_estimators=600;, score=0.941 total time=   0.5s\n",
      "[CV 3/5] END learning_rate=0.001, max_depth=3, n_estimators=600;, score=0.941 total time=   0.5s\n",
      "[CV 4/5] END learning_rate=0.001, max_depth=3, n_estimators=600;, score=0.941 total time=   0.5s\n",
      "[CV 5/5] END learning_rate=0.001, max_depth=3, n_estimators=600;, score=0.941 total time=   0.5s\n",
      "[CV 1/5] END learning_rate=0.001, max_depth=3, n_estimators=700;, score=0.941 total time=   0.6s\n",
      "[CV 2/5] END learning_rate=0.001, max_depth=3, n_estimators=700;, score=0.941 total time=   0.6s\n",
      "[CV 3/5] END learning_rate=0.001, max_depth=3, n_estimators=700;, score=0.941 total time=   0.6s\n",
      "[CV 4/5] END learning_rate=0.001, max_depth=3, n_estimators=700;, score=0.941 total time=   0.6s\n",
      "[CV 5/5] END learning_rate=0.001, max_depth=3, n_estimators=700;, score=0.941 total time=   0.6s\n",
      "[CV 1/5] END learning_rate=0.001, max_depth=3, n_estimators=800;, score=0.941 total time=   0.7s\n",
      "[CV 2/5] END learning_rate=0.001, max_depth=3, n_estimators=800;, score=0.941 total time=   0.7s\n",
      "[CV 3/5] END learning_rate=0.001, max_depth=3, n_estimators=800;, score=0.941 total time=   0.7s\n",
      "[CV 4/5] END learning_rate=0.001, max_depth=3, n_estimators=800;, score=0.941 total time=   0.7s\n",
      "[CV 5/5] END learning_rate=0.001, max_depth=3, n_estimators=800;, score=0.941 total time=   0.7s\n",
      "[CV 1/5] END learning_rate=0.001, max_depth=3, n_estimators=900;, score=0.941 total time=   0.8s\n",
      "[CV 2/5] END learning_rate=0.001, max_depth=3, n_estimators=900;, score=0.941 total time=   0.7s\n",
      "[CV 3/5] END learning_rate=0.001, max_depth=3, n_estimators=900;, score=0.941 total time=   0.8s\n",
      "[CV 4/5] END learning_rate=0.001, max_depth=3, n_estimators=900;, score=0.941 total time=   0.8s\n",
      "[CV 5/5] END learning_rate=0.001, max_depth=3, n_estimators=900;, score=0.941 total time=   0.7s\n",
      "[CV 1/5] END learning_rate=0.001, max_depth=3, n_estimators=1000;, score=0.941 total time=   0.8s\n",
      "[CV 2/5] END learning_rate=0.001, max_depth=3, n_estimators=1000;, score=0.941 total time=   0.9s\n",
      "[CV 3/5] END learning_rate=0.001, max_depth=3, n_estimators=1000;, score=0.941 total time=   0.8s\n",
      "[CV 4/5] END learning_rate=0.001, max_depth=3, n_estimators=1000;, score=0.941 total time=   0.8s\n",
      "[CV 5/5] END learning_rate=0.001, max_depth=3, n_estimators=1000;, score=0.941 total time=   0.8s\n",
      "[CV 1/5] END learning_rate=0.001, max_depth=3, n_estimators=1100;, score=0.941 total time=   0.9s\n",
      "[CV 2/5] END learning_rate=0.001, max_depth=3, n_estimators=1100;, score=0.941 total time=   0.9s\n",
      "[CV 3/5] END learning_rate=0.001, max_depth=3, n_estimators=1100;, score=0.941 total time=   0.9s\n",
      "[CV 4/5] END learning_rate=0.001, max_depth=3, n_estimators=1100;, score=0.941 total time=   0.9s\n",
      "[CV 5/5] END learning_rate=0.001, max_depth=3, n_estimators=1100;, score=0.941 total time=   0.9s\n",
      "[CV 1/5] END learning_rate=0.001, max_depth=3, n_estimators=1200;, score=0.941 total time=   1.0s\n",
      "[CV 2/5] END learning_rate=0.001, max_depth=3, n_estimators=1200;, score=0.941 total time=   1.0s\n",
      "[CV 3/5] END learning_rate=0.001, max_depth=3, n_estimators=1200;, score=0.941 total time=   1.0s\n",
      "[CV 4/5] END learning_rate=0.001, max_depth=3, n_estimators=1200;, score=0.941 total time=   1.0s\n",
      "[CV 5/5] END learning_rate=0.001, max_depth=3, n_estimators=1200;, score=0.941 total time=   1.0s\n",
      "[CV 1/5] END learning_rate=0.001, max_depth=3, n_estimators=1300;, score=0.941 total time=   1.1s\n",
      "[CV 2/5] END learning_rate=0.001, max_depth=3, n_estimators=1300;, score=0.941 total time=   1.2s\n",
      "[CV 3/5] END learning_rate=0.001, max_depth=3, n_estimators=1300;, score=0.941 total time=   1.1s\n",
      "[CV 4/5] END learning_rate=0.001, max_depth=3, n_estimators=1300;, score=0.941 total time=   1.1s\n",
      "[CV 5/5] END learning_rate=0.001, max_depth=3, n_estimators=1300;, score=0.941 total time=   1.1s\n",
      "[CV 1/5] END learning_rate=0.001, max_depth=3, n_estimators=1400;, score=0.941 total time=   1.2s\n",
      "[CV 2/5] END learning_rate=0.001, max_depth=3, n_estimators=1400;, score=0.941 total time=   1.2s\n",
      "[CV 3/5] END learning_rate=0.001, max_depth=3, n_estimators=1400;, score=0.941 total time=   1.2s\n",
      "[CV 4/5] END learning_rate=0.001, max_depth=3, n_estimators=1400;, score=0.941 total time=   1.2s\n",
      "[CV 5/5] END learning_rate=0.001, max_depth=3, n_estimators=1400;, score=0.941 total time=   1.2s\n",
      "[CV 1/5] END learning_rate=0.001, max_depth=5, n_estimators=100;, score=0.939 total time=   0.0s\n",
      "[CV 2/5] END learning_rate=0.001, max_depth=5, n_estimators=100;, score=0.939 total time=   0.1s\n",
      "[CV 3/5] END learning_rate=0.001, max_depth=5, n_estimators=100;, score=0.940 total time=   0.1s\n",
      "[CV 4/5] END learning_rate=0.001, max_depth=5, n_estimators=100;, score=0.939 total time=   0.1s\n",
      "[CV 5/5] END learning_rate=0.001, max_depth=5, n_estimators=100;, score=0.941 total time=   0.1s\n",
      "[CV 1/5] END learning_rate=0.001, max_depth=5, n_estimators=200;, score=0.938 total time=   0.2s\n",
      "[CV 2/5] END learning_rate=0.001, max_depth=5, n_estimators=200;, score=0.939 total time=   0.2s\n",
      "[CV 3/5] END learning_rate=0.001, max_depth=5, n_estimators=200;, score=0.941 total time=   0.2s\n",
      "[CV 4/5] END learning_rate=0.001, max_depth=5, n_estimators=200;, score=0.939 total time=   0.2s\n",
      "[CV 5/5] END learning_rate=0.001, max_depth=5, n_estimators=200;, score=0.940 total time=   0.2s\n",
      "[CV 1/5] END learning_rate=0.001, max_depth=5, n_estimators=300;, score=0.938 total time=   0.3s\n",
      "[CV 2/5] END learning_rate=0.001, max_depth=5, n_estimators=300;, score=0.940 total time=   0.4s\n",
      "[CV 3/5] END learning_rate=0.001, max_depth=5, n_estimators=300;, score=0.941 total time=   0.4s\n",
      "[CV 4/5] END learning_rate=0.001, max_depth=5, n_estimators=300;, score=0.940 total time=   0.4s\n"
     ]
    },
    {
     "name": "stdout",
     "output_type": "stream",
     "text": [
      "[CV 5/5] END learning_rate=0.001, max_depth=5, n_estimators=300;, score=0.941 total time=   0.4s\n",
      "[CV 1/5] END learning_rate=0.001, max_depth=5, n_estimators=400;, score=0.938 total time=   0.5s\n",
      "[CV 2/5] END learning_rate=0.001, max_depth=5, n_estimators=400;, score=0.940 total time=   0.5s\n",
      "[CV 3/5] END learning_rate=0.001, max_depth=5, n_estimators=400;, score=0.941 total time=   0.5s\n",
      "[CV 4/5] END learning_rate=0.001, max_depth=5, n_estimators=400;, score=0.940 total time=   0.5s\n",
      "[CV 5/5] END learning_rate=0.001, max_depth=5, n_estimators=400;, score=0.941 total time=   0.5s\n",
      "[CV 1/5] END learning_rate=0.001, max_depth=5, n_estimators=500;, score=0.938 total time=   0.6s\n",
      "[CV 2/5] END learning_rate=0.001, max_depth=5, n_estimators=500;, score=0.940 total time=   0.7s\n",
      "[CV 3/5] END learning_rate=0.001, max_depth=5, n_estimators=500;, score=0.941 total time=   0.6s\n",
      "[CV 4/5] END learning_rate=0.001, max_depth=5, n_estimators=500;, score=0.940 total time=   0.7s\n",
      "[CV 5/5] END learning_rate=0.001, max_depth=5, n_estimators=500;, score=0.941 total time=   0.6s\n",
      "[CV 1/5] END learning_rate=0.001, max_depth=5, n_estimators=600;, score=0.938 total time=   0.8s\n",
      "[CV 2/5] END learning_rate=0.001, max_depth=5, n_estimators=600;, score=0.940 total time=   0.8s\n",
      "[CV 3/5] END learning_rate=0.001, max_depth=5, n_estimators=600;, score=0.941 total time=   0.8s\n",
      "[CV 4/5] END learning_rate=0.001, max_depth=5, n_estimators=600;, score=0.941 total time=   0.8s\n",
      "[CV 5/5] END learning_rate=0.001, max_depth=5, n_estimators=600;, score=0.941 total time=   0.8s\n",
      "[CV 1/5] END learning_rate=0.001, max_depth=5, n_estimators=700;, score=0.940 total time=   0.9s\n",
      "[CV 2/5] END learning_rate=0.001, max_depth=5, n_estimators=700;, score=0.940 total time=   1.0s\n",
      "[CV 3/5] END learning_rate=0.001, max_depth=5, n_estimators=700;, score=0.941 total time=   0.9s\n",
      "[CV 4/5] END learning_rate=0.001, max_depth=5, n_estimators=700;, score=0.941 total time=   1.0s\n",
      "[CV 5/5] END learning_rate=0.001, max_depth=5, n_estimators=700;, score=0.941 total time=   1.0s\n",
      "[CV 1/5] END learning_rate=0.001, max_depth=5, n_estimators=800;, score=0.940 total time=   1.1s\n",
      "[CV 2/5] END learning_rate=0.001, max_depth=5, n_estimators=800;, score=0.940 total time=   1.1s\n",
      "[CV 3/5] END learning_rate=0.001, max_depth=5, n_estimators=800;, score=0.941 total time=   1.1s\n",
      "[CV 4/5] END learning_rate=0.001, max_depth=5, n_estimators=800;, score=0.941 total time=   1.1s\n",
      "[CV 5/5] END learning_rate=0.001, max_depth=5, n_estimators=800;, score=0.941 total time=   1.1s\n",
      "[CV 1/5] END learning_rate=0.001, max_depth=5, n_estimators=900;, score=0.940 total time=   1.2s\n",
      "[CV 2/5] END learning_rate=0.001, max_depth=5, n_estimators=900;, score=0.940 total time=   1.3s\n",
      "[CV 3/5] END learning_rate=0.001, max_depth=5, n_estimators=900;, score=0.941 total time=   1.3s\n",
      "[CV 4/5] END learning_rate=0.001, max_depth=5, n_estimators=900;, score=0.941 total time=   1.3s\n",
      "[CV 5/5] END learning_rate=0.001, max_depth=5, n_estimators=900;, score=0.941 total time=   1.3s\n",
      "[CV 1/5] END learning_rate=0.001, max_depth=5, n_estimators=1000;, score=0.940 total time=   1.4s\n",
      "[CV 2/5] END learning_rate=0.001, max_depth=5, n_estimators=1000;, score=0.940 total time=   1.4s\n",
      "[CV 3/5] END learning_rate=0.001, max_depth=5, n_estimators=1000;, score=0.941 total time=   1.4s\n",
      "[CV 4/5] END learning_rate=0.001, max_depth=5, n_estimators=1000;, score=0.941 total time=   1.5s\n",
      "[CV 5/5] END learning_rate=0.001, max_depth=5, n_estimators=1000;, score=0.941 total time=   1.4s\n",
      "[CV 1/5] END learning_rate=0.001, max_depth=5, n_estimators=1100;, score=0.940 total time=   1.6s\n",
      "[CV 2/5] END learning_rate=0.001, max_depth=5, n_estimators=1100;, score=0.940 total time=   1.5s\n",
      "[CV 3/5] END learning_rate=0.001, max_depth=5, n_estimators=1100;, score=0.941 total time=   1.6s\n",
      "[CV 4/5] END learning_rate=0.001, max_depth=5, n_estimators=1100;, score=0.941 total time=   1.6s\n",
      "[CV 5/5] END learning_rate=0.001, max_depth=5, n_estimators=1100;, score=0.941 total time=   1.6s\n",
      "[CV 1/5] END learning_rate=0.001, max_depth=5, n_estimators=1200;, score=0.940 total time=   1.7s\n",
      "[CV 2/5] END learning_rate=0.001, max_depth=5, n_estimators=1200;, score=0.940 total time=   1.7s\n",
      "[CV 3/5] END learning_rate=0.001, max_depth=5, n_estimators=1200;, score=0.941 total time=   1.7s\n",
      "[CV 4/5] END learning_rate=0.001, max_depth=5, n_estimators=1200;, score=0.941 total time=   1.7s\n",
      "[CV 5/5] END learning_rate=0.001, max_depth=5, n_estimators=1200;, score=0.941 total time=   1.7s\n",
      "[CV 1/5] END learning_rate=0.001, max_depth=5, n_estimators=1300;, score=0.940 total time=   1.9s\n",
      "[CV 2/5] END learning_rate=0.001, max_depth=5, n_estimators=1300;, score=0.940 total time=   1.9s\n",
      "[CV 3/5] END learning_rate=0.001, max_depth=5, n_estimators=1300;, score=0.941 total time=   1.9s\n",
      "[CV 4/5] END learning_rate=0.001, max_depth=5, n_estimators=1300;, score=0.941 total time=   1.9s\n",
      "[CV 5/5] END learning_rate=0.001, max_depth=5, n_estimators=1300;, score=0.941 total time=   1.9s\n",
      "[CV 1/5] END learning_rate=0.001, max_depth=5, n_estimators=1400;, score=0.940 total time=   2.0s\n",
      "[CV 2/5] END learning_rate=0.001, max_depth=5, n_estimators=1400;, score=0.940 total time=   2.0s\n",
      "[CV 3/5] END learning_rate=0.001, max_depth=5, n_estimators=1400;, score=0.941 total time=   2.0s\n",
      "[CV 4/5] END learning_rate=0.001, max_depth=5, n_estimators=1400;, score=0.941 total time=   2.0s\n",
      "[CV 5/5] END learning_rate=0.001, max_depth=5, n_estimators=1400;, score=0.941 total time=   2.0s\n",
      "[CV 1/5] END learning_rate=0.001, max_depth=7, n_estimators=100;, score=0.939 total time=   0.1s\n",
      "[CV 2/5] END learning_rate=0.001, max_depth=7, n_estimators=100;, score=0.939 total time=   0.1s\n",
      "[CV 3/5] END learning_rate=0.001, max_depth=7, n_estimators=100;, score=0.940 total time=   0.1s\n",
      "[CV 4/5] END learning_rate=0.001, max_depth=7, n_estimators=100;, score=0.939 total time=   0.1s\n",
      "[CV 5/5] END learning_rate=0.001, max_depth=7, n_estimators=100;, score=0.943 total time=   0.1s\n",
      "[CV 1/5] END learning_rate=0.001, max_depth=7, n_estimators=200;, score=0.939 total time=   0.3s\n",
      "[CV 2/5] END learning_rate=0.001, max_depth=7, n_estimators=200;, score=0.939 total time=   0.3s\n",
      "[CV 3/5] END learning_rate=0.001, max_depth=7, n_estimators=200;, score=0.940 total time=   0.3s\n",
      "[CV 4/5] END learning_rate=0.001, max_depth=7, n_estimators=200;, score=0.939 total time=   0.3s\n",
      "[CV 5/5] END learning_rate=0.001, max_depth=7, n_estimators=200;, score=0.942 total time=   0.3s\n",
      "[CV 1/5] END learning_rate=0.001, max_depth=7, n_estimators=300;, score=0.939 total time=   0.5s\n",
      "[CV 2/5] END learning_rate=0.001, max_depth=7, n_estimators=300;, score=0.939 total time=   0.5s\n",
      "[CV 3/5] END learning_rate=0.001, max_depth=7, n_estimators=300;, score=0.940 total time=   0.5s\n",
      "[CV 4/5] END learning_rate=0.001, max_depth=7, n_estimators=300;, score=0.940 total time=   0.5s\n",
      "[CV 5/5] END learning_rate=0.001, max_depth=7, n_estimators=300;, score=0.942 total time=   0.5s\n",
      "[CV 1/5] END learning_rate=0.001, max_depth=7, n_estimators=400;, score=0.939 total time=   0.7s\n",
      "[CV 2/5] END learning_rate=0.001, max_depth=7, n_estimators=400;, score=0.939 total time=   0.7s\n",
      "[CV 3/5] END learning_rate=0.001, max_depth=7, n_estimators=400;, score=0.940 total time=   0.7s\n",
      "[CV 4/5] END learning_rate=0.001, max_depth=7, n_estimators=400;, score=0.940 total time=   0.7s\n",
      "[CV 5/5] END learning_rate=0.001, max_depth=7, n_estimators=400;, score=0.942 total time=   0.7s\n",
      "[CV 1/5] END learning_rate=0.001, max_depth=7, n_estimators=500;, score=0.940 total time=   0.9s\n",
      "[CV 2/5] END learning_rate=0.001, max_depth=7, n_estimators=500;, score=0.939 total time=   0.9s\n",
      "[CV 3/5] END learning_rate=0.001, max_depth=7, n_estimators=500;, score=0.940 total time=   0.9s\n",
      "[CV 4/5] END learning_rate=0.001, max_depth=7, n_estimators=500;, score=0.939 total time=   0.9s\n",
      "[CV 5/5] END learning_rate=0.001, max_depth=7, n_estimators=500;, score=0.942 total time=   0.8s\n",
      "[CV 1/5] END learning_rate=0.001, max_depth=7, n_estimators=600;, score=0.939 total time=   1.1s\n",
      "[CV 2/5] END learning_rate=0.001, max_depth=7, n_estimators=600;, score=0.939 total time=   1.2s\n",
      "[CV 3/5] END learning_rate=0.001, max_depth=7, n_estimators=600;, score=0.940 total time=   1.2s\n",
      "[CV 4/5] END learning_rate=0.001, max_depth=7, n_estimators=600;, score=0.939 total time=   1.2s\n"
     ]
    },
    {
     "name": "stdout",
     "output_type": "stream",
     "text": [
      "[CV 5/5] END learning_rate=0.001, max_depth=7, n_estimators=600;, score=0.942 total time=   1.1s\n",
      "[CV 1/5] END learning_rate=0.001, max_depth=7, n_estimators=700;, score=0.940 total time=   1.3s\n",
      "[CV 2/5] END learning_rate=0.001, max_depth=7, n_estimators=700;, score=0.940 total time=   1.4s\n",
      "[CV 3/5] END learning_rate=0.001, max_depth=7, n_estimators=700;, score=0.940 total time=   1.4s\n",
      "[CV 4/5] END learning_rate=0.001, max_depth=7, n_estimators=700;, score=0.940 total time=   1.3s\n",
      "[CV 5/5] END learning_rate=0.001, max_depth=7, n_estimators=700;, score=0.942 total time=   1.3s\n",
      "[CV 1/5] END learning_rate=0.001, max_depth=7, n_estimators=800;, score=0.940 total time=   1.5s\n",
      "[CV 2/5] END learning_rate=0.001, max_depth=7, n_estimators=800;, score=0.940 total time=   1.6s\n",
      "[CV 3/5] END learning_rate=0.001, max_depth=7, n_estimators=800;, score=0.940 total time=   1.6s\n",
      "[CV 4/5] END learning_rate=0.001, max_depth=7, n_estimators=800;, score=0.940 total time=   1.5s\n",
      "[CV 5/5] END learning_rate=0.001, max_depth=7, n_estimators=800;, score=0.941 total time=   1.5s\n",
      "[CV 1/5] END learning_rate=0.001, max_depth=7, n_estimators=900;, score=0.940 total time=   1.8s\n",
      "[CV 2/5] END learning_rate=0.001, max_depth=7, n_estimators=900;, score=0.940 total time=   1.8s\n",
      "[CV 3/5] END learning_rate=0.001, max_depth=7, n_estimators=900;, score=0.940 total time=   1.8s\n",
      "[CV 4/5] END learning_rate=0.001, max_depth=7, n_estimators=900;, score=0.940 total time=   1.8s\n",
      "[CV 5/5] END learning_rate=0.001, max_depth=7, n_estimators=900;, score=0.941 total time=   1.7s\n",
      "[CV 1/5] END learning_rate=0.001, max_depth=7, n_estimators=1000;, score=0.940 total time=   2.0s\n",
      "[CV 2/5] END learning_rate=0.001, max_depth=7, n_estimators=1000;, score=0.940 total time=   2.0s\n",
      "[CV 3/5] END learning_rate=0.001, max_depth=7, n_estimators=1000;, score=0.940 total time=   2.0s\n",
      "[CV 4/5] END learning_rate=0.001, max_depth=7, n_estimators=1000;, score=0.940 total time=   2.0s\n",
      "[CV 5/5] END learning_rate=0.001, max_depth=7, n_estimators=1000;, score=0.942 total time=   1.9s\n",
      "[CV 1/5] END learning_rate=0.001, max_depth=7, n_estimators=1100;, score=0.940 total time=   2.2s\n",
      "[CV 2/5] END learning_rate=0.001, max_depth=7, n_estimators=1100;, score=0.940 total time=   2.2s\n",
      "[CV 3/5] END learning_rate=0.001, max_depth=7, n_estimators=1100;, score=0.940 total time=   2.2s\n",
      "[CV 4/5] END learning_rate=0.001, max_depth=7, n_estimators=1100;, score=0.940 total time=   2.2s\n",
      "[CV 5/5] END learning_rate=0.001, max_depth=7, n_estimators=1100;, score=0.941 total time=   2.2s\n",
      "[CV 1/5] END learning_rate=0.001, max_depth=7, n_estimators=1200;, score=0.940 total time=   2.5s\n",
      "[CV 2/5] END learning_rate=0.001, max_depth=7, n_estimators=1200;, score=0.941 total time=   2.4s\n",
      "[CV 3/5] END learning_rate=0.001, max_depth=7, n_estimators=1200;, score=0.940 total time=   2.5s\n",
      "[CV 4/5] END learning_rate=0.001, max_depth=7, n_estimators=1200;, score=0.939 total time=   2.4s\n",
      "[CV 5/5] END learning_rate=0.001, max_depth=7, n_estimators=1200;, score=0.941 total time=   2.5s\n",
      "[CV 1/5] END learning_rate=0.001, max_depth=7, n_estimators=1300;, score=0.940 total time=   2.7s\n",
      "[CV 2/5] END learning_rate=0.001, max_depth=7, n_estimators=1300;, score=0.941 total time=   2.7s\n",
      "[CV 3/5] END learning_rate=0.001, max_depth=7, n_estimators=1300;, score=0.940 total time=   2.7s\n",
      "[CV 4/5] END learning_rate=0.001, max_depth=7, n_estimators=1300;, score=0.940 total time=   2.6s\n",
      "[CV 5/5] END learning_rate=0.001, max_depth=7, n_estimators=1300;, score=0.941 total time=   2.6s\n",
      "[CV 1/5] END learning_rate=0.001, max_depth=7, n_estimators=1400;, score=0.940 total time=   2.9s\n",
      "[CV 2/5] END learning_rate=0.001, max_depth=7, n_estimators=1400;, score=0.941 total time=   2.9s\n",
      "[CV 3/5] END learning_rate=0.001, max_depth=7, n_estimators=1400;, score=0.940 total time=   2.9s\n",
      "[CV 4/5] END learning_rate=0.001, max_depth=7, n_estimators=1400;, score=0.940 total time=   2.9s\n",
      "[CV 5/5] END learning_rate=0.001, max_depth=7, n_estimators=1400;, score=0.941 total time=   2.8s\n",
      "[CV 1/5] END learning_rate=0.001, max_depth=9, n_estimators=100;, score=0.940 total time=   0.1s\n",
      "[CV 2/5] END learning_rate=0.001, max_depth=9, n_estimators=100;, score=0.940 total time=   0.2s\n",
      "[CV 3/5] END learning_rate=0.001, max_depth=9, n_estimators=100;, score=0.939 total time=   0.1s\n",
      "[CV 4/5] END learning_rate=0.001, max_depth=9, n_estimators=100;, score=0.938 total time=   0.1s\n",
      "[CV 5/5] END learning_rate=0.001, max_depth=9, n_estimators=100;, score=0.941 total time=   0.1s\n",
      "[CV 1/5] END learning_rate=0.001, max_depth=9, n_estimators=200;, score=0.940 total time=   0.4s\n",
      "[CV 2/5] END learning_rate=0.001, max_depth=9, n_estimators=200;, score=0.940 total time=   0.4s\n",
      "[CV 3/5] END learning_rate=0.001, max_depth=9, n_estimators=200;, score=0.940 total time=   0.4s\n",
      "[CV 4/5] END learning_rate=0.001, max_depth=9, n_estimators=200;, score=0.939 total time=   0.4s\n",
      "[CV 5/5] END learning_rate=0.001, max_depth=9, n_estimators=200;, score=0.942 total time=   0.4s\n",
      "[CV 1/5] END learning_rate=0.001, max_depth=9, n_estimators=300;, score=0.941 total time=   0.6s\n",
      "[CV 2/5] END learning_rate=0.001, max_depth=9, n_estimators=300;, score=0.940 total time=   0.6s\n",
      "[CV 3/5] END learning_rate=0.001, max_depth=9, n_estimators=300;, score=0.940 total time=   0.6s\n",
      "[CV 4/5] END learning_rate=0.001, max_depth=9, n_estimators=300;, score=0.940 total time=   0.6s\n",
      "[CV 5/5] END learning_rate=0.001, max_depth=9, n_estimators=300;, score=0.942 total time=   0.6s\n",
      "[CV 1/5] END learning_rate=0.001, max_depth=9, n_estimators=400;, score=0.941 total time=   0.9s\n",
      "[CV 2/5] END learning_rate=0.001, max_depth=9, n_estimators=400;, score=0.940 total time=   0.9s\n",
      "[CV 3/5] END learning_rate=0.001, max_depth=9, n_estimators=400;, score=0.940 total time=   0.9s\n",
      "[CV 4/5] END learning_rate=0.001, max_depth=9, n_estimators=400;, score=0.940 total time=   0.9s\n",
      "[CV 5/5] END learning_rate=0.001, max_depth=9, n_estimators=400;, score=0.942 total time=   0.8s\n",
      "[CV 1/5] END learning_rate=0.001, max_depth=9, n_estimators=500;, score=0.941 total time=   1.1s\n",
      "[CV 2/5] END learning_rate=0.001, max_depth=9, n_estimators=500;, score=0.940 total time=   1.2s\n",
      "[CV 3/5] END learning_rate=0.001, max_depth=9, n_estimators=500;, score=0.940 total time=   1.2s\n",
      "[CV 4/5] END learning_rate=0.001, max_depth=9, n_estimators=500;, score=0.940 total time=   1.2s\n",
      "[CV 5/5] END learning_rate=0.001, max_depth=9, n_estimators=500;, score=0.942 total time=   1.1s\n",
      "[CV 1/5] END learning_rate=0.001, max_depth=9, n_estimators=600;, score=0.940 total time=   1.4s\n",
      "[CV 2/5] END learning_rate=0.001, max_depth=9, n_estimators=600;, score=0.941 total time=   1.4s\n",
      "[CV 3/5] END learning_rate=0.001, max_depth=9, n_estimators=600;, score=0.940 total time=   1.4s\n",
      "[CV 4/5] END learning_rate=0.001, max_depth=9, n_estimators=600;, score=0.940 total time=   1.4s\n",
      "[CV 5/5] END learning_rate=0.001, max_depth=9, n_estimators=600;, score=0.943 total time=   1.3s\n",
      "[CV 1/5] END learning_rate=0.001, max_depth=9, n_estimators=700;, score=0.941 total time=   1.6s\n",
      "[CV 2/5] END learning_rate=0.001, max_depth=9, n_estimators=700;, score=0.941 total time=   1.7s\n",
      "[CV 3/5] END learning_rate=0.001, max_depth=9, n_estimators=700;, score=0.940 total time=   1.7s\n",
      "[CV 4/5] END learning_rate=0.001, max_depth=9, n_estimators=700;, score=0.940 total time=   1.7s\n",
      "[CV 5/5] END learning_rate=0.001, max_depth=9, n_estimators=700;, score=0.943 total time=   1.6s\n",
      "[CV 1/5] END learning_rate=0.001, max_depth=9, n_estimators=800;, score=0.942 total time=   2.0s\n",
      "[CV 2/5] END learning_rate=0.001, max_depth=9, n_estimators=800;, score=0.941 total time=   2.0s\n",
      "[CV 3/5] END learning_rate=0.001, max_depth=9, n_estimators=800;, score=0.940 total time=   2.0s\n",
      "[CV 4/5] END learning_rate=0.001, max_depth=9, n_estimators=800;, score=0.941 total time=   2.0s\n",
      "[CV 5/5] END learning_rate=0.001, max_depth=9, n_estimators=800;, score=0.942 total time=   1.9s\n",
      "[CV 1/5] END learning_rate=0.001, max_depth=9, n_estimators=900;, score=0.941 total time=   2.2s\n",
      "[CV 2/5] END learning_rate=0.001, max_depth=9, n_estimators=900;, score=0.941 total time=   2.3s\n",
      "[CV 3/5] END learning_rate=0.001, max_depth=9, n_estimators=900;, score=0.940 total time=   2.3s\n",
      "[CV 4/5] END learning_rate=0.001, max_depth=9, n_estimators=900;, score=0.941 total time=   2.7s\n"
     ]
    },
    {
     "name": "stdout",
     "output_type": "stream",
     "text": [
      "[CV 5/5] END learning_rate=0.001, max_depth=9, n_estimators=900;, score=0.943 total time=   2.3s\n",
      "[CV 1/5] END learning_rate=0.001, max_depth=9, n_estimators=1000;, score=0.941 total time=   2.5s\n",
      "[CV 2/5] END learning_rate=0.001, max_depth=9, n_estimators=1000;, score=0.941 total time=   2.5s\n",
      "[CV 3/5] END learning_rate=0.001, max_depth=9, n_estimators=1000;, score=0.941 total time=   2.5s\n",
      "[CV 4/5] END learning_rate=0.001, max_depth=9, n_estimators=1000;, score=0.941 total time=   2.5s\n",
      "[CV 5/5] END learning_rate=0.001, max_depth=9, n_estimators=1000;, score=0.943 total time=   2.5s\n",
      "[CV 1/5] END learning_rate=0.001, max_depth=9, n_estimators=1100;, score=0.941 total time=   2.9s\n",
      "[CV 2/5] END learning_rate=0.001, max_depth=9, n_estimators=1100;, score=0.942 total time=   2.9s\n",
      "[CV 3/5] END learning_rate=0.001, max_depth=9, n_estimators=1100;, score=0.941 total time=   2.8s\n",
      "[CV 4/5] END learning_rate=0.001, max_depth=9, n_estimators=1100;, score=0.941 total time=   2.8s\n",
      "[CV 5/5] END learning_rate=0.001, max_depth=9, n_estimators=1100;, score=0.943 total time=   2.8s\n",
      "[CV 1/5] END learning_rate=0.001, max_depth=9, n_estimators=1200;, score=0.942 total time=   3.1s\n",
      "[CV 2/5] END learning_rate=0.001, max_depth=9, n_estimators=1200;, score=0.942 total time=   3.2s\n",
      "[CV 3/5] END learning_rate=0.001, max_depth=9, n_estimators=1200;, score=0.941 total time=   3.2s\n",
      "[CV 4/5] END learning_rate=0.001, max_depth=9, n_estimators=1200;, score=0.942 total time=   3.1s\n",
      "[CV 5/5] END learning_rate=0.001, max_depth=9, n_estimators=1200;, score=0.943 total time=   3.1s\n",
      "[CV 1/5] END learning_rate=0.001, max_depth=9, n_estimators=1300;, score=0.942 total time=   3.4s\n",
      "[CV 2/5] END learning_rate=0.001, max_depth=9, n_estimators=1300;, score=0.942 total time=   3.4s\n",
      "[CV 3/5] END learning_rate=0.001, max_depth=9, n_estimators=1300;, score=0.940 total time=   3.4s\n",
      "[CV 4/5] END learning_rate=0.001, max_depth=9, n_estimators=1300;, score=0.942 total time=   3.4s\n",
      "[CV 5/5] END learning_rate=0.001, max_depth=9, n_estimators=1300;, score=0.943 total time=   3.4s\n",
      "[CV 1/5] END learning_rate=0.001, max_depth=9, n_estimators=1400;, score=0.942 total time=   3.7s\n",
      "[CV 2/5] END learning_rate=0.001, max_depth=9, n_estimators=1400;, score=0.942 total time=   3.7s\n",
      "[CV 3/5] END learning_rate=0.001, max_depth=9, n_estimators=1400;, score=0.940 total time=   3.7s\n",
      "[CV 4/5] END learning_rate=0.001, max_depth=9, n_estimators=1400;, score=0.942 total time=   3.7s\n",
      "[CV 5/5] END learning_rate=0.001, max_depth=9, n_estimators=1400;, score=0.943 total time=   3.7s\n"
     ]
    },
    {
     "data": {
      "text/plain": [
       "GridSearchCV(cv=5,\n",
       "             estimator=XGBClassifier(base_score=None, booster=None,\n",
       "                                     callbacks=None, colsample_bylevel=None,\n",
       "                                     colsample_bynode=None,\n",
       "                                     colsample_bytree=None,\n",
       "                                     early_stopping_rounds=None,\n",
       "                                     enable_categorical=False, eval_metric=None,\n",
       "                                     feature_types=None, gamma=None,\n",
       "                                     gpu_id=None, grow_policy=None,\n",
       "                                     importance_type=None,\n",
       "                                     interaction_constraints=None,\n",
       "                                     learning_rate=None,...\n",
       "                                     max_delta_step=None, max_depth=None,\n",
       "                                     max_leaves=None, min_child_weight=None,\n",
       "                                     missing=nan, monotone_constraints=None,\n",
       "                                     n_estimators=100, n_jobs=None,\n",
       "                                     num_parallel_tree=None, predictor=None,\n",
       "                                     random_state=None, ...),\n",
       "             param_grid={'learning_rate': array([0.001]),\n",
       "                         'max_depth': array([3, 5, 7, 9]),\n",
       "                         'n_estimators': array([ 100,  200,  300,  400,  500,  600,  700,  800,  900, 1000, 1100,\n",
       "       1200, 1300, 1400])},\n",
       "             verbose=3)"
      ]
     },
     "execution_count": 87,
     "metadata": {},
     "output_type": "execute_result"
    }
   ],
   "source": [
    "grid_search = GridSearchCV(estimator = model, param_grid = param_grid, cv = 5, verbose = 3)\n",
    "grid_search.fit(x_train, y_train)"
   ]
  },
  {
   "cell_type": "code",
   "execution_count": 88,
   "id": "3b35a0d6",
   "metadata": {},
   "outputs": [
    {
     "data": {
      "text/plain": [
       "{'learning_rate': 0.001, 'max_depth': 9, 'n_estimators': 1300}"
      ]
     },
     "execution_count": 88,
     "metadata": {},
     "output_type": "execute_result"
    }
   ],
   "source": [
    "final_model = grid_search.best_params_\n",
    "final_model"
   ]
  },
  {
   "cell_type": "code",
   "execution_count": 89,
   "id": "6c371c7c",
   "metadata": {},
   "outputs": [
    {
     "data": {
      "text/plain": [
       "XGBClassifier(base_score=0.5, booster='gbtree', callbacks=None,\n",
       "              colsample_bylevel=1, colsample_bynode=1, colsample_bytree=1,\n",
       "              early_stopping_rounds=None, enable_categorical=False,\n",
       "              eval_metric=None, feature_types=None, gamma=0, gpu_id=-1,\n",
       "              grow_policy='depthwise', importance_type=None,\n",
       "              interaction_constraints='', learning_rate=0.001, max_bin=256,\n",
       "              max_cat_threshold=64, max_cat_to_onehot=4, max_delta_step=0,\n",
       "              max_depth=9, max_leaves=0, min_child_weight=1, missing=nan,\n",
       "              monotone_constraints='()', n_estimators=1300, n_jobs=0,\n",
       "              num_parallel_tree=1, predictor='auto', random_state=0, ...)"
      ]
     },
     "execution_count": 89,
     "metadata": {},
     "output_type": "execute_result"
    }
   ],
   "source": [
    "model = xgb.XGBClassifier(learning_rate = 0.001, max_depth = 9, n_estimators = 1300)\n",
    "model.fit(x_train, y_train)"
   ]
  },
  {
   "cell_type": "code",
   "execution_count": 90,
   "id": "09c18cfd",
   "metadata": {},
   "outputs": [],
   "source": [
    "y_pred_GridXG_train = model.predict(x_train)\n",
    "y_pred_GridXG_test = model.predict(x_test)"
   ]
  },
  {
   "cell_type": "markdown",
   "id": "5c03e0a5",
   "metadata": {},
   "source": [
    "# Model Evaluation : "
   ]
  },
  {
   "cell_type": "code",
   "execution_count": 91,
   "id": "7950d4ea",
   "metadata": {},
   "outputs": [
    {
     "name": "stdout",
     "output_type": "stream",
     "text": [
      "                    Training Report           \n",
      "[[  109   909]\n",
      " [   37 16148]]\n",
      "The accuracy of the Model is : 0.9450095913503459\n",
      "              precision    recall  f1-score   support\n",
      "\n",
      "           0       0.75      0.11      0.19      1018\n",
      "           1       0.95      1.00      0.97     16185\n",
      "\n",
      "    accuracy                           0.95     17203\n",
      "   macro avg       0.85      0.55      0.58     17203\n",
      "weighted avg       0.93      0.95      0.93     17203\n",
      "\n"
     ]
    }
   ],
   "source": [
    "print('                    Training Report           ')\n",
    "modelEval(y_train, y_pred_GridXG_train)"
   ]
  },
  {
   "cell_type": "code",
   "execution_count": 92,
   "id": "b9ab893f",
   "metadata": {},
   "outputs": [
    {
     "name": "stdout",
     "output_type": "stream",
     "text": [
      "               Testing Report                            \n",
      "[[   0  410]\n",
      " [   0 6963]]\n",
      "The accuracy of the Model is : 0.944391699443917\n",
      "              precision    recall  f1-score   support\n",
      "\n",
      "           0       0.00      0.00      0.00       410\n",
      "           1       0.94      1.00      0.97      6963\n",
      "\n",
      "    accuracy                           0.94      7373\n",
      "   macro avg       0.47      0.50      0.49      7373\n",
      "weighted avg       0.89      0.94      0.92      7373\n",
      "\n"
     ]
    }
   ],
   "source": [
    "print('               Testing Report                            ')\n",
    "modelEval(y_test, y_pred_GridXG_test)"
   ]
  },
  {
   "cell_type": "code",
   "execution_count": 93,
   "id": "c7e81deb",
   "metadata": {},
   "outputs": [],
   "source": [
    "test_df = pd.read_csv('ea_test.csv')"
   ]
  },
  {
   "cell_type": "code",
   "execution_count": 94,
   "id": "cf226a34",
   "metadata": {},
   "outputs": [
    {
     "data": {
      "text/html": [
       "<div>\n",
       "<style scoped>\n",
       "    .dataframe tbody tr th:only-of-type {\n",
       "        vertical-align: middle;\n",
       "    }\n",
       "\n",
       "    .dataframe tbody tr th {\n",
       "        vertical-align: top;\n",
       "    }\n",
       "\n",
       "    .dataframe thead th {\n",
       "        text-align: right;\n",
       "    }\n",
       "</style>\n",
       "<table border=\"1\" class=\"dataframe\">\n",
       "  <thead>\n",
       "    <tr style=\"text-align: right;\">\n",
       "      <th></th>\n",
       "      <th>RESOURCE</th>\n",
       "      <th>MGR_ID</th>\n",
       "      <th>ROLE_ROLLUP_1</th>\n",
       "      <th>ROLE_ROLLUP_2</th>\n",
       "      <th>ROLE_DEPTNAME</th>\n",
       "      <th>ROLE_TITLE</th>\n",
       "      <th>ROLE_FAMILY_DESC</th>\n",
       "      <th>ROLE_FAMILY</th>\n",
       "      <th>ROLE_CODE</th>\n",
       "      <th>ID</th>\n",
       "    </tr>\n",
       "  </thead>\n",
       "  <tbody>\n",
       "    <tr>\n",
       "      <th>0</th>\n",
       "      <td>37793</td>\n",
       "      <td>81744</td>\n",
       "      <td>117902</td>\n",
       "      <td>117903</td>\n",
       "      <td>118783</td>\n",
       "      <td>118451</td>\n",
       "      <td>130134</td>\n",
       "      <td>118453</td>\n",
       "      <td>118454</td>\n",
       "      <td>18245</td>\n",
       "    </tr>\n",
       "    <tr>\n",
       "      <th>1</th>\n",
       "      <td>40309</td>\n",
       "      <td>1541</td>\n",
       "      <td>117961</td>\n",
       "      <td>118225</td>\n",
       "      <td>123173</td>\n",
       "      <td>119093</td>\n",
       "      <td>123174</td>\n",
       "      <td>119095</td>\n",
       "      <td>119096</td>\n",
       "      <td>9226</td>\n",
       "    </tr>\n",
       "    <tr>\n",
       "      <th>2</th>\n",
       "      <td>27356</td>\n",
       "      <td>205</td>\n",
       "      <td>117961</td>\n",
       "      <td>118386</td>\n",
       "      <td>118746</td>\n",
       "      <td>118784</td>\n",
       "      <td>147114</td>\n",
       "      <td>290919</td>\n",
       "      <td>118786</td>\n",
       "      <td>27195</td>\n",
       "    </tr>\n",
       "    <tr>\n",
       "      <th>3</th>\n",
       "      <td>5173</td>\n",
       "      <td>8229</td>\n",
       "      <td>117961</td>\n",
       "      <td>118300</td>\n",
       "      <td>121305</td>\n",
       "      <td>119351</td>\n",
       "      <td>149246</td>\n",
       "      <td>3130</td>\n",
       "      <td>119353</td>\n",
       "      <td>6478</td>\n",
       "    </tr>\n",
       "    <tr>\n",
       "      <th>4</th>\n",
       "      <td>77207</td>\n",
       "      <td>51791</td>\n",
       "      <td>117961</td>\n",
       "      <td>119256</td>\n",
       "      <td>120943</td>\n",
       "      <td>118995</td>\n",
       "      <td>280788</td>\n",
       "      <td>292795</td>\n",
       "      <td>118997</td>\n",
       "      <td>4813</td>\n",
       "    </tr>\n",
       "  </tbody>\n",
       "</table>\n",
       "</div>"
      ],
      "text/plain": [
       "   RESOURCE  MGR_ID  ROLE_ROLLUP_1  ROLE_ROLLUP_2  ROLE_DEPTNAME  ROLE_TITLE  \\\n",
       "0     37793   81744         117902         117903         118783      118451   \n",
       "1     40309    1541         117961         118225         123173      119093   \n",
       "2     27356     205         117961         118386         118746      118784   \n",
       "3      5173    8229         117961         118300         121305      119351   \n",
       "4     77207   51791         117961         119256         120943      118995   \n",
       "\n",
       "   ROLE_FAMILY_DESC  ROLE_FAMILY  ROLE_CODE     ID  \n",
       "0            130134       118453     118454  18245  \n",
       "1            123174       119095     119096   9226  \n",
       "2            147114       290919     118786  27195  \n",
       "3            149246         3130     119353   6478  \n",
       "4            280788       292795     118997   4813  "
      ]
     },
     "execution_count": 94,
     "metadata": {},
     "output_type": "execute_result"
    }
   ],
   "source": [
    "test_df.head()"
   ]
  },
  {
   "cell_type": "code",
   "execution_count": 95,
   "id": "59c4ac91",
   "metadata": {},
   "outputs": [
    {
     "name": "stdout",
     "output_type": "stream",
     "text": [
      "<class 'pandas.core.frame.DataFrame'>\n",
      "RangeIndex: 8193 entries, 0 to 8192\n",
      "Data columns (total 10 columns):\n",
      " #   Column            Non-Null Count  Dtype\n",
      "---  ------            --------------  -----\n",
      " 0   RESOURCE          8193 non-null   int64\n",
      " 1   MGR_ID            8193 non-null   int64\n",
      " 2   ROLE_ROLLUP_1     8193 non-null   int64\n",
      " 3   ROLE_ROLLUP_2     8193 non-null   int64\n",
      " 4   ROLE_DEPTNAME     8193 non-null   int64\n",
      " 5   ROLE_TITLE        8193 non-null   int64\n",
      " 6   ROLE_FAMILY_DESC  8193 non-null   int64\n",
      " 7   ROLE_FAMILY       8193 non-null   int64\n",
      " 8   ROLE_CODE         8193 non-null   int64\n",
      " 9   ID                8193 non-null   int64\n",
      "dtypes: int64(10)\n",
      "memory usage: 640.2 KB\n"
     ]
    }
   ],
   "source": [
    "test_df.info()"
   ]
  },
  {
   "cell_type": "code",
   "execution_count": 96,
   "id": "b4222828",
   "metadata": {},
   "outputs": [],
   "source": [
    "test_df.drop(['RESOURCE', 'MGR_ID', 'ROLE_ROLLUP_1', 'ID'], axis = 1, inplace = True)"
   ]
  },
  {
   "cell_type": "code",
   "execution_count": 97,
   "id": "8fdccb28",
   "metadata": {},
   "outputs": [
    {
     "data": {
      "text/html": [
       "<div>\n",
       "<style scoped>\n",
       "    .dataframe tbody tr th:only-of-type {\n",
       "        vertical-align: middle;\n",
       "    }\n",
       "\n",
       "    .dataframe tbody tr th {\n",
       "        vertical-align: top;\n",
       "    }\n",
       "\n",
       "    .dataframe thead th {\n",
       "        text-align: right;\n",
       "    }\n",
       "</style>\n",
       "<table border=\"1\" class=\"dataframe\">\n",
       "  <thead>\n",
       "    <tr style=\"text-align: right;\">\n",
       "      <th></th>\n",
       "      <th>ROLE_ROLLUP_2</th>\n",
       "      <th>ROLE_DEPTNAME</th>\n",
       "      <th>ROLE_TITLE</th>\n",
       "      <th>ROLE_FAMILY_DESC</th>\n",
       "      <th>ROLE_FAMILY</th>\n",
       "      <th>ROLE_CODE</th>\n",
       "    </tr>\n",
       "  </thead>\n",
       "  <tbody>\n",
       "    <tr>\n",
       "      <th>0</th>\n",
       "      <td>117903</td>\n",
       "      <td>118783</td>\n",
       "      <td>118451</td>\n",
       "      <td>130134</td>\n",
       "      <td>118453</td>\n",
       "      <td>118454</td>\n",
       "    </tr>\n",
       "    <tr>\n",
       "      <th>1</th>\n",
       "      <td>118225</td>\n",
       "      <td>123173</td>\n",
       "      <td>119093</td>\n",
       "      <td>123174</td>\n",
       "      <td>119095</td>\n",
       "      <td>119096</td>\n",
       "    </tr>\n",
       "    <tr>\n",
       "      <th>2</th>\n",
       "      <td>118386</td>\n",
       "      <td>118746</td>\n",
       "      <td>118784</td>\n",
       "      <td>147114</td>\n",
       "      <td>290919</td>\n",
       "      <td>118786</td>\n",
       "    </tr>\n",
       "    <tr>\n",
       "      <th>3</th>\n",
       "      <td>118300</td>\n",
       "      <td>121305</td>\n",
       "      <td>119351</td>\n",
       "      <td>149246</td>\n",
       "      <td>3130</td>\n",
       "      <td>119353</td>\n",
       "    </tr>\n",
       "    <tr>\n",
       "      <th>4</th>\n",
       "      <td>119256</td>\n",
       "      <td>120943</td>\n",
       "      <td>118995</td>\n",
       "      <td>280788</td>\n",
       "      <td>292795</td>\n",
       "      <td>118997</td>\n",
       "    </tr>\n",
       "  </tbody>\n",
       "</table>\n",
       "</div>"
      ],
      "text/plain": [
       "   ROLE_ROLLUP_2  ROLE_DEPTNAME  ROLE_TITLE  ROLE_FAMILY_DESC  ROLE_FAMILY  \\\n",
       "0         117903         118783      118451            130134       118453   \n",
       "1         118225         123173      119093            123174       119095   \n",
       "2         118386         118746      118784            147114       290919   \n",
       "3         118300         121305      119351            149246         3130   \n",
       "4         119256         120943      118995            280788       292795   \n",
       "\n",
       "   ROLE_CODE  \n",
       "0     118454  \n",
       "1     119096  \n",
       "2     118786  \n",
       "3     119353  \n",
       "4     118997  "
      ]
     },
     "execution_count": 97,
     "metadata": {},
     "output_type": "execute_result"
    }
   ],
   "source": [
    "test_df.head()"
   ]
  },
  {
   "cell_type": "code",
   "execution_count": 98,
   "id": "4e4dc9fb",
   "metadata": {},
   "outputs": [
    {
     "name": "stdout",
     "output_type": "stream",
     "text": [
      "ROLE_ROLLUP_2\n"
     ]
    },
    {
     "data": {
      "image/png": "[encoded data removed]",
      "text/plain": [
       "<Figure size 800x550 with 1 Axes>"
      ]
     },
     "metadata": {},
     "output_type": "display_data"
    },
    {
     "name": "stdout",
     "output_type": "stream",
     "text": [
      "ROLE_DEPTNAME\n"
     ]
    },
    {
     "data": {
      "image/png": "[encoded data removed]",
      "text/plain": [
       "<Figure size 800x550 with 1 Axes>"
      ]
     },
     "metadata": {},
     "output_type": "display_data"
    },
    {
     "name": "stdout",
     "output_type": "stream",
     "text": [
      "ROLE_TITLE\n"
     ]
    },
    {
     "data": {
      "image/png": "[encoded data removed]",
      "text/plain": [
       "<Figure size 800x550 with 1 Axes>"
      ]
     },
     "metadata": {},
     "output_type": "display_data"
    },
    {
     "name": "stdout",
     "output_type": "stream",
     "text": [
      "ROLE_FAMILY_DESC\n"
     ]
    },
    {
     "data": {
      "image/png": "[encoded data removed]",
      "text/plain": [
       "<Figure size 800x550 with 1 Axes>"
      ]
     },
     "metadata": {},
     "output_type": "display_data"
    },
    {
     "name": "stdout",
     "output_type": "stream",
     "text": [
      "ROLE_FAMILY\n"
     ]
    },
    {
     "data": {
      "image/png": "[encoded data removed]",
      "text/plain": [
       "<Figure size 800x550 with 1 Axes>"
      ]
     },
     "metadata": {},
     "output_type": "display_data"
    },
    {
     "name": "stdout",
     "output_type": "stream",
     "text": [
      "ROLE_CODE\n"
     ]
    },
    {
     "data": {
      "image/png": "[encoded data removed]",
      "text/plain": [
       "<Figure size 800x550 with 1 Axes>"
      ]
     },
     "metadata": {},
     "output_type": "display_data"
    }
   ],
   "source": [
    "for col in test_df.iloc[:,:].columns:\n",
    "    print(col)\n",
    "    sns.boxplot(x = test_df[col], data = test_df, color = 'red')\n",
    "    plt.show()"
   ]
  },
  {
   "cell_type": "code",
   "execution_count": 99,
   "id": "e0209d0b",
   "metadata": {},
   "outputs": [],
   "source": [
    "def Outlier(var):\n",
    "    for x in var.iloc[:, :].columns:\n",
    "        Q1 = var[x].quantile(0.25)\n",
    "        Q3 = var[x].quantile(0.75)\n",
    "        IQR = Q3-Q1\n",
    "        Lower = Q1-(1.5*IQR)\n",
    "        Upper = Q3+(1.5*IQR)\n",
    "        var.loc[:,x] = np.where(var[x].values > Upper, Upper, var[x].values)\n",
    "        var.loc[:,x] = np.where(var[x].values < Lower, Lower, var[x].values)\n",
    "    return var\n",
    "df_test = Outlier(test_df)"
   ]
  },
  {
   "cell_type": "code",
   "execution_count": 101,
   "id": "510e4bf3",
   "metadata": {},
   "outputs": [
    {
     "name": "stdout",
     "output_type": "stream",
     "text": [
      "ROLE_ROLLUP_2\n"
     ]
    },
    {
     "data": {
      "image/png": "[encoded data removed]",
      "text/plain": [
       "<Figure size 800x550 with 1 Axes>"
      ]
     },
     "metadata": {},
     "output_type": "display_data"
    },
    {
     "name": "stdout",
     "output_type": "stream",
     "text": [
      "ROLE_DEPTNAME\n"
     ]
    },
    {
     "data": {
      "image/png": "[encoded data removed]",
      "text/plain": [
       "<Figure size 800x550 with 1 Axes>"
      ]
     },
     "metadata": {},
     "output_type": "display_data"
    },
    {
     "name": "stdout",
     "output_type": "stream",
     "text": [
      "ROLE_TITLE\n"
     ]
    },
    {
     "data": {
      "image/png": "[encoded data removed]",
      "text/plain": [
       "<Figure size 800x550 with 1 Axes>"
      ]
     },
     "metadata": {},
     "output_type": "display_data"
    },
    {
     "name": "stdout",
     "output_type": "stream",
     "text": [
      "ROLE_FAMILY_DESC\n"
     ]
    },
    {
     "data": {
      "image/png": "[encoded data removed]",
      "text/plain": [
       "<Figure size 800x550 with 1 Axes>"
      ]
     },
     "metadata": {},
     "output_type": "display_data"
    },
    {
     "name": "stdout",
     "output_type": "stream",
     "text": [
      "ROLE_FAMILY\n"
     ]
    },
    {
     "data": {
      "image/png": "[encoded data removed]",
      "text/plain": [
       "<Figure size 800x550 with 1 Axes>"
      ]
     },
     "metadata": {},
     "output_type": "display_data"
    },
    {
     "name": "stdout",
     "output_type": "stream",
     "text": [
      "ROLE_CODE\n"
     ]
    },
    {
     "data": {
      "image/png": "[encoded data removed]",
      "text/plain": [
       "<Figure size 800x550 with 1 Axes>"
      ]
     },
     "metadata": {},
     "output_type": "display_data"
    }
   ],
   "source": [
    "for col in test_df.iloc[:,:].columns:\n",
    "    print(col)\n",
    "    sns.boxplot(x = test_df[col], data = test_df, color = 'red')\n",
    "    plt.show()"
   ]
  },
  {
   "cell_type": "code",
   "execution_count": 102,
   "id": "ad8c739a",
   "metadata": {},
   "outputs": [
    {
     "data": {
      "text/html": [
       "<div>\n",
       "<style scoped>\n",
       "    .dataframe tbody tr th:only-of-type {\n",
       "        vertical-align: middle;\n",
       "    }\n",
       "\n",
       "    .dataframe tbody tr th {\n",
       "        vertical-align: top;\n",
       "    }\n",
       "\n",
       "    .dataframe thead th {\n",
       "        text-align: right;\n",
       "    }\n",
       "</style>\n",
       "<table border=\"1\" class=\"dataframe\">\n",
       "  <thead>\n",
       "    <tr style=\"text-align: right;\">\n",
       "      <th></th>\n",
       "      <th>ROLE_ROLLUP_2</th>\n",
       "      <th>ROLE_DEPTNAME</th>\n",
       "      <th>ROLE_TITLE</th>\n",
       "      <th>ROLE_FAMILY_DESC</th>\n",
       "      <th>ROLE_FAMILY</th>\n",
       "      <th>ROLE_CODE</th>\n",
       "    </tr>\n",
       "  </thead>\n",
       "  <tbody>\n",
       "    <tr>\n",
       "      <th>0</th>\n",
       "      <td>117903.0</td>\n",
       "      <td>118783.0</td>\n",
       "      <td>118451.0</td>\n",
       "      <td>130134.0</td>\n",
       "      <td>118453.0</td>\n",
       "      <td>118454.0</td>\n",
       "    </tr>\n",
       "    <tr>\n",
       "      <th>1</th>\n",
       "      <td>118225.0</td>\n",
       "      <td>123173.0</td>\n",
       "      <td>119093.0</td>\n",
       "      <td>123174.0</td>\n",
       "      <td>119095.0</td>\n",
       "      <td>119096.0</td>\n",
       "    </tr>\n",
       "    <tr>\n",
       "      <th>2</th>\n",
       "      <td>118386.0</td>\n",
       "      <td>118746.0</td>\n",
       "      <td>118784.0</td>\n",
       "      <td>147114.0</td>\n",
       "      <td>290919.0</td>\n",
       "      <td>118786.0</td>\n",
       "    </tr>\n",
       "    <tr>\n",
       "      <th>3</th>\n",
       "      <td>118300.0</td>\n",
       "      <td>121305.0</td>\n",
       "      <td>119351.0</td>\n",
       "      <td>149246.0</td>\n",
       "      <td>3130.0</td>\n",
       "      <td>119353.0</td>\n",
       "    </tr>\n",
       "    <tr>\n",
       "      <th>4</th>\n",
       "      <td>118812.0</td>\n",
       "      <td>120943.0</td>\n",
       "      <td>118995.0</td>\n",
       "      <td>280788.0</td>\n",
       "      <td>292795.0</td>\n",
       "      <td>118997.0</td>\n",
       "    </tr>\n",
       "  </tbody>\n",
       "</table>\n",
       "</div>"
      ],
      "text/plain": [
       "   ROLE_ROLLUP_2  ROLE_DEPTNAME  ROLE_TITLE  ROLE_FAMILY_DESC  ROLE_FAMILY  \\\n",
       "0       117903.0       118783.0    118451.0          130134.0     118453.0   \n",
       "1       118225.0       123173.0    119093.0          123174.0     119095.0   \n",
       "2       118386.0       118746.0    118784.0          147114.0     290919.0   \n",
       "3       118300.0       121305.0    119351.0          149246.0       3130.0   \n",
       "4       118812.0       120943.0    118995.0          280788.0     292795.0   \n",
       "\n",
       "   ROLE_CODE  \n",
       "0   118454.0  \n",
       "1   119096.0  \n",
       "2   118786.0  \n",
       "3   119353.0  \n",
       "4   118997.0  "
      ]
     },
     "execution_count": 102,
     "metadata": {},
     "output_type": "execute_result"
    }
   ],
   "source": [
    "df_test.head()"
   ]
  },
  {
   "cell_type": "code",
   "execution_count": 103,
   "id": "5c7ffe36",
   "metadata": {},
   "outputs": [],
   "source": [
    "df_test = scaler.transform(df_test)"
   ]
  },
  {
   "cell_type": "code",
   "execution_count": 104,
   "id": "2c6f17e0",
   "metadata": {},
   "outputs": [],
   "source": [
    "predicted_test = model.predict(df_test)"
   ]
  },
  {
   "cell_type": "code",
   "execution_count": 106,
   "id": "aa447ee7",
   "metadata": {},
   "outputs": [
    {
     "data": {
      "text/plain": [
       "[(1, 1),\n",
       " (1, 1),\n",
       " (1, 1),\n",
       " (0, 1),\n",
       " (1, 1),\n",
       " (1, 1),\n",
       " (1, 1),\n",
       " (1, 1),\n",
       " (1, 1),\n",
       " (1, 1),\n",
       " (1, 1),\n",
       " (1, 1),\n",
       " (1, 1),\n",
       " (1, 1),\n",
       " (1, 1),\n",
       " (1, 1),\n",
       " (1, 1),\n",
       " (1, 1),\n",
       " (1, 1),\n",
       " (1, 1),\n",
       " (1, 1),\n",
       " (0, 1),\n",
       " (1, 1),\n",
       " (1, 1),\n",
       " (0, 1),\n",
       " (1, 1),\n",
       " (1, 1),\n",
       " (1, 1),\n",
       " (1, 1),\n",
       " (1, 1),\n",
       " (1, 1),\n",
       " (1, 1),\n",
       " (1, 1),\n",
       " (1, 1),\n",
       " (1, 1),\n",
       " (1, 1),\n",
       " (1, 1),\n",
       " (1, 1),\n",
       " (1, 1),\n",
       " (1, 1),\n",
       " (1, 1),\n",
       " (1, 1),\n",
       " (0, 1),\n",
       " (1, 1),\n",
       " (1, 1),\n",
       " (1, 1),\n",
       " (1, 1),\n",
       " (1, 1),\n",
       " (1, 1),\n",
       " (1, 1),\n",
       " (1, 1),\n",
       " (1, 1),\n",
       " (1, 1),\n",
       " (1, 1),\n",
       " (1, 1),\n",
       " (1, 1),\n",
       " (1, 1),\n",
       " (1, 1),\n",
       " (1, 1),\n",
       " (1, 1),\n",
       " (1, 1),\n",
       " (1, 1),\n",
       " (1, 1),\n",
       " (1, 1),\n",
       " (1, 1),\n",
       " (1, 1),\n",
       " (1, 1),\n",
       " (1, 1),\n",
       " (1, 1),\n",
       " (1, 1),\n",
       " (1, 1),\n",
       " (1, 1),\n",
       " (1, 1),\n",
       " (1, 1),\n",
       " (1, 1),\n",
       " (1, 1),\n",
       " (1, 1),\n",
       " (1, 1),\n",
       " (1, 1),\n",
       " (1, 1),\n",
       " (1, 1),\n",
       " (1, 1),\n",
       " (1, 1),\n",
       " (1, 1),\n",
       " (1, 1),\n",
       " (1, 1),\n",
       " (1, 1),\n",
       " (1, 1),\n",
       " (1, 1),\n",
       " (1, 1),\n",
       " (1, 1),\n",
       " (1, 1),\n",
       " (1, 1),\n",
       " (1, 1),\n",
       " (1, 1),\n",
       " (1, 1),\n",
       " (1, 1),\n",
       " (1, 1),\n",
       " (1, 1),\n",
       " (1, 1),\n",
       " (1, 1),\n",
       " (1, 1),\n",
       " (1, 1),\n",
       " (1, 1),\n",
       " (0, 1),\n",
       " (1, 1),\n",
       " (1, 1),\n",
       " (1, 1),\n",
       " (1, 1),\n",
       " (1, 1),\n",
       " (1, 1),\n",
       " (1, 1),\n",
       " (1, 1),\n",
       " (1, 1),\n",
       " (1, 1),\n",
       " (1, 1),\n",
       " (1, 1),\n",
       " (0, 1),\n",
       " (1, 1),\n",
       " (1, 1),\n",
       " (1, 1),\n",
       " (1, 1),\n",
       " (1, 1),\n",
       " (1, 1),\n",
       " (1, 1),\n",
       " (1, 1),\n",
       " (1, 1),\n",
       " (1, 1),\n",
       " (1, 1),\n",
       " (0, 1),\n",
       " (0, 1),\n",
       " (0, 1),\n",
       " (1, 1),\n",
       " (1, 1),\n",
       " (1, 1),\n",
       " (1, 1),\n",
       " (1, 1),\n",
       " (1, 1),\n",
       " (1, 1),\n",
       " (1, 1),\n",
       " (1, 1),\n",
       " (1, 1),\n",
       " (1, 1),\n",
       " (1, 1),\n",
       " (1, 1),\n",
       " (1, 1),\n",
       " (1, 1),\n",
       " (0, 1),\n",
       " (1, 1),\n",
       " (1, 1),\n",
       " (1, 1),\n",
       " (1, 1),\n",
       " (1, 1),\n",
       " (1, 1),\n",
       " (1, 1),\n",
       " (1, 1),\n",
       " (1, 1),\n",
       " (1, 1),\n",
       " (1, 1),\n",
       " (1, 1),\n",
       " (1, 1),\n",
       " (1, 1),\n",
       " (1, 1),\n",
       " (1, 1),\n",
       " (0, 1),\n",
       " (1, 1),\n",
       " (1, 1),\n",
       " (1, 1),\n",
       " (1, 1),\n",
       " (1, 1),\n",
       " (1, 1),\n",
       " (1, 1),\n",
       " (1, 1),\n",
       " (1, 1),\n",
       " (1, 1),\n",
       " (1, 1),\n",
       " (1, 1),\n",
       " (1, 1),\n",
       " (1, 1),\n",
       " (1, 1),\n",
       " (1, 1),\n",
       " (1, 1),\n",
       " (1, 1),\n",
       " (1, 1),\n",
       " (1, 1),\n",
       " (1, 1),\n",
       " (1, 1),\n",
       " (1, 1),\n",
       " (1, 1),\n",
       " (1, 1),\n",
       " (1, 1),\n",
       " (1, 1),\n",
       " (0, 1),\n",
       " (1, 1),\n",
       " (1, 1),\n",
       " (1, 1),\n",
       " (0, 1),\n",
       " (1, 1),\n",
       " (1, 1),\n",
       " (1, 1),\n",
       " (1, 1),\n",
       " (1, 1),\n",
       " (1, 1),\n",
       " (0, 1),\n",
       " (1, 1),\n",
       " (1, 1),\n",
       " (1, 1),\n",
       " (1, 1),\n",
       " (1, 1),\n",
       " (1, 1),\n",
       " (1, 1),\n",
       " (1, 1),\n",
       " (1, 1),\n",
       " (1, 1),\n",
       " (1, 1),\n",
       " (1, 1),\n",
       " (1, 1),\n",
       " (1, 1),\n",
       " (1, 1),\n",
       " (1, 1),\n",
       " (1, 1),\n",
       " (0, 1),\n",
       " (1, 1),\n",
       " (1, 1),\n",
       " (1, 1),\n",
       " (1, 1),\n",
       " (1, 1),\n",
       " (1, 1),\n",
       " (1, 1),\n",
       " (1, 1),\n",
       " (1, 1),\n",
       " (1, 1),\n",
       " (1, 1),\n",
       " (1, 1),\n",
       " (1, 1),\n",
       " (1, 1),\n",
       " (1, 1),\n",
       " (1, 1),\n",
       " (1, 1),\n",
       " (1, 1),\n",
       " (1, 1),\n",
       " (1, 1),\n",
       " (1, 1),\n",
       " (1, 1),\n",
       " (1, 1),\n",
       " (1, 1),\n",
       " (1, 1),\n",
       " (1, 1),\n",
       " (1, 1),\n",
       " (1, 1),\n",
       " (1, 1),\n",
       " (1, 1),\n",
       " (1, 1),\n",
       " (1, 1),\n",
       " (1, 1),\n",
       " (1, 1),\n",
       " (1, 1),\n",
       " (1, 1),\n",
       " (1, 1),\n",
       " (1, 1),\n",
       " (1, 1),\n",
       " (1, 1),\n",
       " (1, 1),\n",
       " (1, 1),\n",
       " (1, 1),\n",
       " (1, 1),\n",
       " (1, 1),\n",
       " (1, 1),\n",
       " (1, 1),\n",
       " (1, 1),\n",
       " (1, 1),\n",
       " (1, 1),\n",
       " (1, 1),\n",
       " (1, 1),\n",
       " (1, 1),\n",
       " (1, 1),\n",
       " (1, 1),\n",
       " (1, 1),\n",
       " (1, 1),\n",
       " (1, 1),\n",
       " (1, 1),\n",
       " (1, 1),\n",
       " (1, 1),\n",
       " (1, 1),\n",
       " (1, 1),\n",
       " (0, 1),\n",
       " (1, 1),\n",
       " (1, 1),\n",
       " (1, 1),\n",
       " (1, 1),\n",
       " (1, 1),\n",
       " (1, 1),\n",
       " (0, 1),\n",
       " (1, 1),\n",
       " (1, 1),\n",
       " (1, 1),\n",
       " (1, 1),\n",
       " (1, 1),\n",
       " (1, 1),\n",
       " (1, 1),\n",
       " (1, 1),\n",
       " (1, 1),\n",
       " (1, 1),\n",
       " (1, 1),\n",
       " (1, 1),\n",
       " (1, 1),\n",
       " (1, 1),\n",
       " (1, 1),\n",
       " (1, 1),\n",
       " (0, 1),\n",
       " (1, 1),\n",
       " (1, 1),\n",
       " (1, 1),\n",
       " (1, 1),\n",
       " (1, 1),\n",
       " (1, 1),\n",
       " (1, 1),\n",
       " (1, 1),\n",
       " (0, 1),\n",
       " (1, 1),\n",
       " (1, 1),\n",
       " (1, 1),\n",
       " (1, 1),\n",
       " (1, 1),\n",
       " (1, 1),\n",
       " (1, 1),\n",
       " (1, 1),\n",
       " (1, 1),\n",
       " (1, 1),\n",
       " (1, 1),\n",
       " (1, 1),\n",
       " (1, 1),\n",
       " (1, 1),\n",
       " (1, 1),\n",
       " (1, 1),\n",
       " (1, 1),\n",
       " (1, 1),\n",
       " (1, 1),\n",
       " (1, 1),\n",
       " (1, 1),\n",
       " (1, 1),\n",
       " (1, 1),\n",
       " (1, 1),\n",
       " (1, 1),\n",
       " (1, 1),\n",
       " (1, 1),\n",
       " (1, 1),\n",
       " (1, 1),\n",
       " (1, 1),\n",
       " (1, 1),\n",
       " (1, 1),\n",
       " (1, 1),\n",
       " (1, 1),\n",
       " (1, 1),\n",
       " (0, 1),\n",
       " (1, 1),\n",
       " (1, 1),\n",
       " (1, 1),\n",
       " (0, 1),\n",
       " (1, 1),\n",
       " (1, 1),\n",
       " (1, 1),\n",
       " (1, 1),\n",
       " (1, 1),\n",
       " (1, 1),\n",
       " (1, 1),\n",
       " (1, 1),\n",
       " (1, 1),\n",
       " (1, 1),\n",
       " (0, 1),\n",
       " (1, 1),\n",
       " (1, 1),\n",
       " (1, 1),\n",
       " (1, 1),\n",
       " (1, 1),\n",
       " (1, 1),\n",
       " (1, 1),\n",
       " (1, 1),\n",
       " (1, 1),\n",
       " (1, 1),\n",
       " (1, 1),\n",
       " (1, 1),\n",
       " (1, 1),\n",
       " (1, 1),\n",
       " (1, 1),\n",
       " (1, 1),\n",
       " (1, 1),\n",
       " (1, 1),\n",
       " (1, 1),\n",
       " (1, 1),\n",
       " (1, 1),\n",
       " (1, 1),\n",
       " (1, 1),\n",
       " (1, 1),\n",
       " (1, 1),\n",
       " (1, 1),\n",
       " (0, 1),\n",
       " (1, 1),\n",
       " (1, 1),\n",
       " (1, 1),\n",
       " (1, 1),\n",
       " (1, 1),\n",
       " (1, 1),\n",
       " (1, 1),\n",
       " (1, 1),\n",
       " (1, 1),\n",
       " (1, 1),\n",
       " (1, 1),\n",
       " (1, 1),\n",
       " (1, 1),\n",
       " (1, 1),\n",
       " (1, 1),\n",
       " (1, 1),\n",
       " (1, 1),\n",
       " (0, 1),\n",
       " (1, 1),\n",
       " (1, 1),\n",
       " (1, 1),\n",
       " (1, 1),\n",
       " (1, 1),\n",
       " (1, 1),\n",
       " (1, 1),\n",
       " (1, 1),\n",
       " (1, 1),\n",
       " (1, 1),\n",
       " (1, 1),\n",
       " (1, 1),\n",
       " (1, 1),\n",
       " (1, 1),\n",
       " (1, 1),\n",
       " (1, 1),\n",
       " (1, 1),\n",
       " (1, 1),\n",
       " (1, 1),\n",
       " (1, 1),\n",
       " (1, 1),\n",
       " (1, 1),\n",
       " (1, 1),\n",
       " (1, 1),\n",
       " (1, 1),\n",
       " (1, 1),\n",
       " (0, 1),\n",
       " (1, 1),\n",
       " (1, 1),\n",
       " (1, 1),\n",
       " (1, 1),\n",
       " (1, 1),\n",
       " (1, 1),\n",
       " (1, 1),\n",
       " (1, 1),\n",
       " (1, 1),\n",
       " (1, 1),\n",
       " (1, 1),\n",
       " (1, 1),\n",
       " (1, 1),\n",
       " (0, 1),\n",
       " (1, 1),\n",
       " (1, 1),\n",
       " (1, 1),\n",
       " (0, 1),\n",
       " (1, 1),\n",
       " (1, 1),\n",
       " (1, 1),\n",
       " (1, 1),\n",
       " (1, 1),\n",
       " (1, 1),\n",
       " (1, 1),\n",
       " (1, 1),\n",
       " (1, 1),\n",
       " (1, 1),\n",
       " (1, 1),\n",
       " (1, 1),\n",
       " (1, 1),\n",
       " (1, 1),\n",
       " (1, 1),\n",
       " (1, 1),\n",
       " (1, 1),\n",
       " (1, 1),\n",
       " (1, 1),\n",
       " (1, 1),\n",
       " (1, 1),\n",
       " (1, 1),\n",
       " (1, 1),\n",
       " (1, 1),\n",
       " (0, 1),\n",
       " (1, 1),\n",
       " (1, 1),\n",
       " (1, 1),\n",
       " (1, 1),\n",
       " (1, 1),\n",
       " (1, 1),\n",
       " (1, 1),\n",
       " (1, 1),\n",
       " (1, 1),\n",
       " (1, 1),\n",
       " (1, 1),\n",
       " (1, 1),\n",
       " (1, 1),\n",
       " (1, 1),\n",
       " (1, 1),\n",
       " (1, 1),\n",
       " (1, 1),\n",
       " (1, 1),\n",
       " (1, 1),\n",
       " (1, 1),\n",
       " (0, 1),\n",
       " (1, 1),\n",
       " (1, 1),\n",
       " (1, 1),\n",
       " (0, 1),\n",
       " (1, 1),\n",
       " (1, 1),\n",
       " (1, 1),\n",
       " (1, 1),\n",
       " (1, 1),\n",
       " (1, 1),\n",
       " (1, 1),\n",
       " (1, 1),\n",
       " (1, 1),\n",
       " (1, 1),\n",
       " (1, 1),\n",
       " (1, 1),\n",
       " (1, 1),\n",
       " (1, 1),\n",
       " (1, 1),\n",
       " (1, 1),\n",
       " (1, 1),\n",
       " (1, 1),\n",
       " (1, 1),\n",
       " (1, 1),\n",
       " (1, 1),\n",
       " (1, 1),\n",
       " (1, 1),\n",
       " (1, 1),\n",
       " (1, 1),\n",
       " (1, 1),\n",
       " (1, 1),\n",
       " (0, 1),\n",
       " (1, 1),\n",
       " (1, 1),\n",
       " (1, 1),\n",
       " (1, 1),\n",
       " (1, 1),\n",
       " (1, 1),\n",
       " (1, 1),\n",
       " (1, 1),\n",
       " (1, 1),\n",
       " (1, 1),\n",
       " (1, 1),\n",
       " (1, 1),\n",
       " (1, 1),\n",
       " (1, 1),\n",
       " (1, 1),\n",
       " (1, 1),\n",
       " (1, 1),\n",
       " (1, 1),\n",
       " (1, 1),\n",
       " (1, 1),\n",
       " (0, 1),\n",
       " (1, 1),\n",
       " (1, 1),\n",
       " (1, 1),\n",
       " (1, 1),\n",
       " (1, 1),\n",
       " (1, 1),\n",
       " (1, 1),\n",
       " (1, 1),\n",
       " (1, 1),\n",
       " (1, 1),\n",
       " (1, 1),\n",
       " (1, 1),\n",
       " (1, 1),\n",
       " (1, 1),\n",
       " (1, 1),\n",
       " (1, 1),\n",
       " (1, 1),\n",
       " (1, 1),\n",
       " (1, 1),\n",
       " (0, 1),\n",
       " (1, 1),\n",
       " (1, 1),\n",
       " (1, 1),\n",
       " (1, 1),\n",
       " (1, 1),\n",
       " (1, 1),\n",
       " (1, 1),\n",
       " (1, 1),\n",
       " (1, 1),\n",
       " (1, 1),\n",
       " (1, 1),\n",
       " (1, 1),\n",
       " (1, 1),\n",
       " (1, 1),\n",
       " (1, 1),\n",
       " (1, 1),\n",
       " (1, 1),\n",
       " (1, 1),\n",
       " (1, 1),\n",
       " (1, 1),\n",
       " (1, 1),\n",
       " (1, 1),\n",
       " (1, 1),\n",
       " (1, 1),\n",
       " (0, 1),\n",
       " (1, 1),\n",
       " (1, 1),\n",
       " (1, 1),\n",
       " (1, 1),\n",
       " (1, 1),\n",
       " (1, 1),\n",
       " (1, 1),\n",
       " (1, 1),\n",
       " (0, 1),\n",
       " (1, 1),\n",
       " (1, 1),\n",
       " (0, 1),\n",
       " (1, 1),\n",
       " (1, 1),\n",
       " (1, 1),\n",
       " (1, 1),\n",
       " (1, 1),\n",
       " (1, 1),\n",
       " (1, 1),\n",
       " (1, 1),\n",
       " (1, 1),\n",
       " (1, 1),\n",
       " (0, 1),\n",
       " (1, 1),\n",
       " (1, 1),\n",
       " (1, 1),\n",
       " (1, 1),\n",
       " (1, 1),\n",
       " (1, 1),\n",
       " (1, 1),\n",
       " (1, 1),\n",
       " (1, 1),\n",
       " (1, 1),\n",
       " (1, 1),\n",
       " (1, 1),\n",
       " (1, 1),\n",
       " (1, 1),\n",
       " (1, 1),\n",
       " (1, 1),\n",
       " (1, 1),\n",
       " (1, 1),\n",
       " (1, 1),\n",
       " (1, 1),\n",
       " (1, 1),\n",
       " (1, 1),\n",
       " (1, 1),\n",
       " (1, 1),\n",
       " (1, 1),\n",
       " (1, 1),\n",
       " (1, 1),\n",
       " (1, 1),\n",
       " (0, 1),\n",
       " (0, 1),\n",
       " (1, 1),\n",
       " (1, 1),\n",
       " (1, 1),\n",
       " (1, 1),\n",
       " (1, 1),\n",
       " (1, 1),\n",
       " (1, 1),\n",
       " (1, 1),\n",
       " (1, 1),\n",
       " (1, 1),\n",
       " (1, 1),\n",
       " (1, 1),\n",
       " (0, 1),\n",
       " (1, 1),\n",
       " (1, 1),\n",
       " (1, 1),\n",
       " (1, 1),\n",
       " (1, 1),\n",
       " (1, 1),\n",
       " (1, 1),\n",
       " (1, 1),\n",
       " (1, 1),\n",
       " (1, 1),\n",
       " (1, 1),\n",
       " (1, 1),\n",
       " (1, 1),\n",
       " (1, 1),\n",
       " (1, 1),\n",
       " (1, 1),\n",
       " (1, 1),\n",
       " (1, 1),\n",
       " (0, 1),\n",
       " (1, 1),\n",
       " (1, 1),\n",
       " (1, 1),\n",
       " (1, 1),\n",
       " (1, 1),\n",
       " (1, 1),\n",
       " (1, 1),\n",
       " (1, 1),\n",
       " (1, 1),\n",
       " (1, 1),\n",
       " (1, 1),\n",
       " (1, 1),\n",
       " (1, 1),\n",
       " (1, 1),\n",
       " (1, 1),\n",
       " (1, 1),\n",
       " (1, 1),\n",
       " (1, 1),\n",
       " (1, 1),\n",
       " (1, 1),\n",
       " (1, 1),\n",
       " (1, 1),\n",
       " (1, 1),\n",
       " (1, 1),\n",
       " (0, 1),\n",
       " (1, 1),\n",
       " (1, 1),\n",
       " (1, 1),\n",
       " (1, 1),\n",
       " (1, 1),\n",
       " (1, 1),\n",
       " (1, 1),\n",
       " (1, 1),\n",
       " (1, 1),\n",
       " (1, 1),\n",
       " (1, 1),\n",
       " (1, 1),\n",
       " (1, 1),\n",
       " (1, 1),\n",
       " (1, 1),\n",
       " (1, 1),\n",
       " (1, 1),\n",
       " (1, 1),\n",
       " (1, 1),\n",
       " (1, 1),\n",
       " (1, 1),\n",
       " (1, 1),\n",
       " (1, 1),\n",
       " (1, 1),\n",
       " (1, 1),\n",
       " (1, 1),\n",
       " (1, 1),\n",
       " (1, 1),\n",
       " (1, 1),\n",
       " (1, 1),\n",
       " (1, 1),\n",
       " (0, 1),\n",
       " (1, 1),\n",
       " (1, 1),\n",
       " (1, 1),\n",
       " (1, 1),\n",
       " (1, 1),\n",
       " (1, 1),\n",
       " (1, 1),\n",
       " (1, 1),\n",
       " (1, 1),\n",
       " (1, 1),\n",
       " (1, 1),\n",
       " (1, 1),\n",
       " (1, 1),\n",
       " (1, 1),\n",
       " (0, 1),\n",
       " (1, 1),\n",
       " (1, 1),\n",
       " (1, 1),\n",
       " (1, 1),\n",
       " (1, 1),\n",
       " (1, 1),\n",
       " (1, 1),\n",
       " (1, 1),\n",
       " (1, 1),\n",
       " (0, 1),\n",
       " (1, 1),\n",
       " (1, 1),\n",
       " (1, 1),\n",
       " (1, 1),\n",
       " (1, 1),\n",
       " (1, 1),\n",
       " (1, 1),\n",
       " (1, 1),\n",
       " (1, 1),\n",
       " (1, 1),\n",
       " (1, 1),\n",
       " (1, 1),\n",
       " (1, 1),\n",
       " (1, 1),\n",
       " (0, 1),\n",
       " (1, 1),\n",
       " (1, 1),\n",
       " (1, 1),\n",
       " (1, 1),\n",
       " (1, 1),\n",
       " (1, 1),\n",
       " (1, 1),\n",
       " (1, 1),\n",
       " (1, 1),\n",
       " (1, 1),\n",
       " (1, 1),\n",
       " (1, 1),\n",
       " (1, 1),\n",
       " (1, 1),\n",
       " (1, 1),\n",
       " (1, 1),\n",
       " (1, 1),\n",
       " (1, 1),\n",
       " (1, 1),\n",
       " (1, 1),\n",
       " (1, 1),\n",
       " (1, 1),\n",
       " (1, 1),\n",
       " (1, 1),\n",
       " (1, 1),\n",
       " (1, 1),\n",
       " (1, 1),\n",
       " (1, 1),\n",
       " (1, 1),\n",
       " (1, 1),\n",
       " (1, 1),\n",
       " (1, 1),\n",
       " (1, 1),\n",
       " (1, 1),\n",
       " (1, 1),\n",
       " (1, 1),\n",
       " (1, 1),\n",
       " (1, 1),\n",
       " (1, 1),\n",
       " (1, 1),\n",
       " (1, 1),\n",
       " (0, 1),\n",
       " (1, 1),\n",
       " (1, 1),\n",
       " (1, 1),\n",
       " (1, 1),\n",
       " (1, 1),\n",
       " (0, 1),\n",
       " (1, 1),\n",
       " (1, 1),\n",
       " (1, 1),\n",
       " (1, 1),\n",
       " (1, 1),\n",
       " (1, 1),\n",
       " (1, 1),\n",
       " (1, 1),\n",
       " (1, 1),\n",
       " (1, 1),\n",
       " (1, 1),\n",
       " (1, 1),\n",
       " (1, 1),\n",
       " (1, 1),\n",
       " (1, 1),\n",
       " (1, 1),\n",
       " (1, 1),\n",
       " (1, 1),\n",
       " (1, 1),\n",
       " (1, 1),\n",
       " (1, 1),\n",
       " (1, 1),\n",
       " (1, 1),\n",
       " (1, 1),\n",
       " (1, 1),\n",
       " (1, 1),\n",
       " (1, 1),\n",
       " (1, 1),\n",
       " (1, 1),\n",
       " (1, 1),\n",
       " (1, 1),\n",
       " (1, 1),\n",
       " (1, 1),\n",
       " (1, 1),\n",
       " (1, 1),\n",
       " (1, 1),\n",
       " (1, 1),\n",
       " (1, 1),\n",
       " (1, 1),\n",
       " (1, 1),\n",
       " (1, 1),\n",
       " (1, 1),\n",
       " (1, 1),\n",
       " (1, 1),\n",
       " (1, 1),\n",
       " (1, 1),\n",
       " (1, 1),\n",
       " (0, 1),\n",
       " (1, 1),\n",
       " (1, 1),\n",
       " (1, 1),\n",
       " (1, 1),\n",
       " (1, 1),\n",
       " (1, 1),\n",
       " (0, 1),\n",
       " (1, 1),\n",
       " (0, 1),\n",
       " (1, 1),\n",
       " (1, 1),\n",
       " (1, 1),\n",
       " (1, 1),\n",
       " (1, 1),\n",
       " (1, 1),\n",
       " (1, 1),\n",
       " (1, 1),\n",
       " (1, 1),\n",
       " (1, 1),\n",
       " (1, 1),\n",
       " (1, 1),\n",
       " (1, 1),\n",
       " (0, 1),\n",
       " (1, 1),\n",
       " (1, 1),\n",
       " (1, 1),\n",
       " (1, 1),\n",
       " (1, 1),\n",
       " (1, 1),\n",
       " (1, 1),\n",
       " (1, 1),\n",
       " (1, 1),\n",
       " (1, 1),\n",
       " (1, 1),\n",
       " (1, 1),\n",
       " (1, 1),\n",
       " (1, 1),\n",
       " (1, 1),\n",
       " (1, 1),\n",
       " (1, 1),\n",
       " (1, 1),\n",
       " (1, 1),\n",
       " (1, 1),\n",
       " (1, 1),\n",
       " (1, 1),\n",
       " (1, 1),\n",
       " (1, 1),\n",
       " (1, 1),\n",
       " (1, 1),\n",
       " (1, 1),\n",
       " (1, 1),\n",
       " (1, 1),\n",
       " (1, 1),\n",
       " (1, 1),\n",
       " (1, 1),\n",
       " (1, 1),\n",
       " (0, 1),\n",
       " (1, 1),\n",
       " (1, 1),\n",
       " (1, 1),\n",
       " (1, 1),\n",
       " (1, 1),\n",
       " (1, 1),\n",
       " (1, 1),\n",
       " (1, 1),\n",
       " (1, 1),\n",
       " (0, 1),\n",
       " (1, 1),\n",
       " (1, 1),\n",
       " (1, 1),\n",
       " (1, 1),\n",
       " (1, 1),\n",
       " (1, 1),\n",
       " (0, 1),\n",
       " (1, 1),\n",
       " (1, 1),\n",
       " (1, 1),\n",
       " (1, 1),\n",
       " (1, 1),\n",
       " (1, 1),\n",
       " (1, 1),\n",
       " (1, 1),\n",
       " (1, 1),\n",
       " (1, 1),\n",
       " (1, 1),\n",
       " (1, 1),\n",
       " (1, 1),\n",
       " (1, 1),\n",
       " (1, 1),\n",
       " (1, 1),\n",
       " (1, 1),\n",
       " (1, 1),\n",
       " (1, 1),\n",
       " (1, 1),\n",
       " (1, 1),\n",
       " (1, 1),\n",
       " (1, 1),\n",
       " (1, 1),\n",
       " (1, 1),\n",
       " (1, 1),\n",
       " (1, 1),\n",
       " (1, 1),\n",
       " (1, 1),\n",
       " (1, 1),\n",
       " (1, 1),\n",
       " (1, 1),\n",
       " (1, 1),\n",
       " (1, 1),\n",
       " (1, 1),\n",
       " (1, 1),\n",
       " (1, 1),\n",
       " (1, 1),\n",
       " (1, 1),\n",
       " (1, 1),\n",
       " (1, 1),\n",
       " (1, 1),\n",
       " (0, 1),\n",
       " (1, 1),\n",
       " ...]"
      ]
     },
     "execution_count": 106,
     "metadata": {},
     "output_type": "execute_result"
    }
   ],
   "source": [
    "list(zip(y_test, predicted_test))"
   ]
  },
  {
   "cell_type": "code",
   "execution_count": 107,
   "id": "3ab20095",
   "metadata": {},
   "outputs": [],
   "source": [
    "test_df['ACTION'] = predicted_test"
   ]
  },
  {
   "cell_type": "code",
   "execution_count": 108,
   "id": "07e96571",
   "metadata": {},
   "outputs": [
    {
     "data": {
      "text/html": [
       "<div>\n",
       "<style scoped>\n",
       "    .dataframe tbody tr th:only-of-type {\n",
       "        vertical-align: middle;\n",
       "    }\n",
       "\n",
       "    .dataframe tbody tr th {\n",
       "        vertical-align: top;\n",
       "    }\n",
       "\n",
       "    .dataframe thead th {\n",
       "        text-align: right;\n",
       "    }\n",
       "</style>\n",
       "<table border=\"1\" class=\"dataframe\">\n",
       "  <thead>\n",
       "    <tr style=\"text-align: right;\">\n",
       "      <th></th>\n",
       "      <th>ROLE_ROLLUP_2</th>\n",
       "      <th>ROLE_DEPTNAME</th>\n",
       "      <th>ROLE_TITLE</th>\n",
       "      <th>ROLE_FAMILY_DESC</th>\n",
       "      <th>ROLE_FAMILY</th>\n",
       "      <th>ROLE_CODE</th>\n",
       "      <th>ACTION</th>\n",
       "    </tr>\n",
       "  </thead>\n",
       "  <tbody>\n",
       "    <tr>\n",
       "      <th>0</th>\n",
       "      <td>117903.0</td>\n",
       "      <td>118783.0</td>\n",
       "      <td>118451.0</td>\n",
       "      <td>130134.0</td>\n",
       "      <td>118453.0</td>\n",
       "      <td>118454.0</td>\n",
       "      <td>1</td>\n",
       "    </tr>\n",
       "    <tr>\n",
       "      <th>1</th>\n",
       "      <td>118225.0</td>\n",
       "      <td>123173.0</td>\n",
       "      <td>119093.0</td>\n",
       "      <td>123174.0</td>\n",
       "      <td>119095.0</td>\n",
       "      <td>119096.0</td>\n",
       "      <td>1</td>\n",
       "    </tr>\n",
       "    <tr>\n",
       "      <th>2</th>\n",
       "      <td>118386.0</td>\n",
       "      <td>118746.0</td>\n",
       "      <td>118784.0</td>\n",
       "      <td>147114.0</td>\n",
       "      <td>290919.0</td>\n",
       "      <td>118786.0</td>\n",
       "      <td>1</td>\n",
       "    </tr>\n",
       "    <tr>\n",
       "      <th>3</th>\n",
       "      <td>118300.0</td>\n",
       "      <td>121305.0</td>\n",
       "      <td>119351.0</td>\n",
       "      <td>149246.0</td>\n",
       "      <td>3130.0</td>\n",
       "      <td>119353.0</td>\n",
       "      <td>1</td>\n",
       "    </tr>\n",
       "    <tr>\n",
       "      <th>4</th>\n",
       "      <td>118812.0</td>\n",
       "      <td>120943.0</td>\n",
       "      <td>118995.0</td>\n",
       "      <td>280788.0</td>\n",
       "      <td>292795.0</td>\n",
       "      <td>118997.0</td>\n",
       "      <td>1</td>\n",
       "    </tr>\n",
       "  </tbody>\n",
       "</table>\n",
       "</div>"
      ],
      "text/plain": [
       "   ROLE_ROLLUP_2  ROLE_DEPTNAME  ROLE_TITLE  ROLE_FAMILY_DESC  ROLE_FAMILY  \\\n",
       "0       117903.0       118783.0    118451.0          130134.0     118453.0   \n",
       "1       118225.0       123173.0    119093.0          123174.0     119095.0   \n",
       "2       118386.0       118746.0    118784.0          147114.0     290919.0   \n",
       "3       118300.0       121305.0    119351.0          149246.0       3130.0   \n",
       "4       118812.0       120943.0    118995.0          280788.0     292795.0   \n",
       "\n",
       "   ROLE_CODE  ACTION  \n",
       "0   118454.0       1  \n",
       "1   119096.0       1  \n",
       "2   118786.0       1  \n",
       "3   119353.0       1  \n",
       "4   118997.0       1  "
      ]
     },
     "execution_count": 108,
     "metadata": {},
     "output_type": "execute_result"
    }
   ],
   "source": [
    "test_df.head()"
   ]
  },
  {
   "cell_type": "code",
   "execution_count": 109,
   "id": "6ebd2ace",
   "metadata": {},
   "outputs": [],
   "source": [
    "test_df.to_csv('submission_employeeAct.csv', index = False, header = False)"
   ]
  },
  {
   "cell_type": "code",
   "execution_count": null,
   "id": "c0534a26",
   "metadata": {},
   "outputs": [],
   "source": []
  },
  {
   "cell_type": "code",
   "execution_count": null,
   "id": "125b24d5",
   "metadata": {},
   "outputs": [],
   "source": []
  },
  {
   "cell_type": "code",
   "execution_count": null,
   "id": "c6f4df32",
   "metadata": {},
   "outputs": [],
   "source": []
  },
  {
   "cell_type": "code",
   "execution_count": null,
   "id": "9a200743",
   "metadata": {},
   "outputs": [],
   "source": []
  }
 ],
 "metadata": {
  "kernelspec": {
   "display_name": "Python 3 (ipykernel)",
   "language": "python",
   "name": "python3"
  },
  "language_info": {
   "codemirror_mode": {
    "name": "ipython",
    "version": 3
   },
   "file_extension": ".py",
   "mimetype": "text/x-python",
   "name": "python",
   "nbconvert_exporter": "python",
   "pygments_lexer": "ipython3",
   "version": "3.9.13"
  }
 },
 "nbformat": 4,
 "nbformat_minor": 5
}
